{
 "cells": [
  {
   "cell_type": "code",
   "execution_count": null,
   "metadata": {
    "ExecuteTime": {
     "end_time": "2018-05-07T22:54:31.020152Z",
     "start_time": "2018-05-07T22:54:28.660833Z"
    }
   },
   "outputs": [],
   "source": [
    "import pandas as pd\n",
    "import matplotlib.pyplot as plt\n",
    "import numpy as np\n",
    "from scipy.stats import linregress\n",
    "import seaborn as sns\n",
    "from sklearn.cluster import KMeans\n",
    "\n",
    "# Load Data into DataFrame\n",
    "df_Avoidable_Death = pd.read_csv('Avoidable_Death.csv',encoding = 'ISO-8859-1')\n",
    "df_Health_Risk_Factor = pd.read_csv('Health_Risk_Factor.csv',encoding = 'ISO-8859-1')\n",
    "\n",
    "# Function to plot linear regression for scatter plot \n",
    "# reference from STACKOVERFLOW https://stackoverflow.com/\n",
    "# Argument: slope(float), intercept(float)\n",
    "# Return: None\n",
    "def LinearRegressionLinePlot(slope, intercept):\n",
    "    \"\"\"Plot a line from slope and intercept\"\"\"\n",
    "    axes = plt.gca()\n",
    "    x_vals = np.array(axes.get_xlim())\n",
    "    y_vals = intercept + slope * x_vals\n",
    "    plt.plot(x_vals, y_vals, '-', color='black')"
   ]
  },
  {
   "cell_type": "markdown",
   "metadata": {
    "heading_collapsed": true
   },
   "source": [
    "# Data Preprocessing "
   ]
  },
  {
   "cell_type": "markdown",
   "metadata": {
    "heading_collapsed": true,
    "hidden": true
   },
   "source": [
    "## Data Formating"
   ]
  },
  {
   "cell_type": "code",
   "execution_count": null,
   "metadata": {
    "ExecuteTime": {
     "end_time": "2018-05-07T22:54:31.032185Z",
     "start_time": "2018-05-07T22:54:31.022659Z"
    },
    "hidden": true
   },
   "outputs": [],
   "source": [
    "# Drop noisy column(useless)\n",
    "df_Health_Risk_Factor = df_Health_Risk_Factor.drop(columns = [\" ste_name\"])\n",
    "df_Avoidable_Death = df_Avoidable_Death.drop(columns = [\" ste_name\"])"
   ]
  },
  {
   "cell_type": "code",
   "execution_count": null,
   "metadata": {
    "ExecuteTime": {
     "end_time": "2018-05-07T22:54:31.051742Z",
     "start_time": "2018-05-07T22:54:31.040206Z"
    },
    "hidden": true
   },
   "outputs": [],
   "source": [
    "# Rename\n",
    "df_Health_Risk_Factor.rename(columns={'alchl_p_2_asr':  'RiskAlcoholConsumption_per100',\\\n",
    "                                      ' frt_intk_2_asr':'FruitAdequateIntake_per100',\\\n",
    "                                      ' lga_code': 'lga_code',\\\n",
    "                                      ' lga_name': 'lga_name',\\\n",
    "                                      ' hbld_pres_2_asr':  'HighBloodPressure_per100',\\\n",
    "                                       ' ovrwgt_p_2_asr': 'Overweight_per100',\\\n",
    "                                      ' lw_excse_2_asr':'LowExercise_per100',\\\n",
    "                                      ' wst_meas_p_2_asr': 'RiskWaistMeasurement_per100',\\\n",
    "                                       ' smkrs_p_2_asr':'Somker_per100' ,\\\n",
    "                                      ' psych_dstrs_2_asr': 'PsychologicalDistress_per100',\\\n",
    "                                      ' obese_p_2_asr': 'obese_per100'}, inplace=True)\n",
    "\n",
    "df_Avoidable_Death.rename(columns = {'lga_name': 'lga_name',\\\n",
    "                                     ' lga_code': 'lga_code',\\\n",
    "                                     ' avoid_dths_cancer_2_asr':'cancer_per100,000',\\\n",
    "                                       ' avoid_dths_diab_2_asr': 'diabetes_per100,000',\\\n",
    "                                     ' avoid_dths_colo_2_asr':'colorectal_per100,000' ,\\\n",
    "                                       ' avoid_dths_pulm_2_asr': 'pulmonary _per100,000',\\\n",
    "                                     ' avoid_dths_cerb_2_asr': 'cerebrovascular_per100,000'}, inplace = True)"
   ]
  },
  {
   "cell_type": "code",
   "execution_count": null,
   "metadata": {
    "ExecuteTime": {
     "end_time": "2018-05-07T22:54:31.070788Z",
     "start_time": "2018-05-07T22:54:31.056249Z"
    },
    "hidden": true
   },
   "outputs": [],
   "source": [
    "# Change Column Position\n",
    "df_Health_Risk_Factor = df_Health_Risk_Factor[['lga_code','lga_name','FruitAdequateIntake_per100',\n",
    "                                               'RiskAlcoholConsumption_per100', 'HighBloodPressure_per100',\n",
    "       'Overweight_per100', 'LowExercise_per100',\n",
    "       'RiskWaistMeasurement_per100', 'Somker_per100',\n",
    "       'PsychologicalDistress_per100', 'obese_per100']]\n",
    "\n",
    "df_Avoidable_Death = df_Avoidable_Death[['lga_code',\n",
    "       'lga_name','diabetes_per100,000', 'cerebrovascular_per100,000', \n",
    "                                         'colorectal_per100,000', 'cancer_per100,000',\n",
    "       'pulmonary _per100,000']]"
   ]
  },
  {
   "cell_type": "code",
   "execution_count": null,
   "metadata": {
    "ExecuteTime": {
     "end_time": "2018-05-07T22:54:31.082820Z",
     "start_time": "2018-05-07T22:54:31.073295Z"
    },
    "hidden": true
   },
   "outputs": [],
   "source": [
    "# Data sorting on 'lga_code' in ascending for both datasets\n",
    "df_Avoidable_Death.sort_values(by = ['lga_code']);\n",
    "df_Health_Risk_Factor.sort_values(by = ['lga_code']);"
   ]
  },
  {
   "cell_type": "markdown",
   "metadata": {
    "heading_collapsed": true,
    "hidden": true
   },
   "source": [
    "## Data Integrating"
   ]
  },
  {
   "cell_type": "code",
   "execution_count": null,
   "metadata": {
    "ExecuteTime": {
     "end_time": "2018-05-07T22:54:31.096856Z",
     "start_time": "2018-05-07T22:54:31.086835Z"
    },
    "hidden": true
   },
   "outputs": [],
   "source": [
    "# Integrate two dataset on the feature 'lga_coded' and 'lga_name'\n",
    "# Interated dataset of Avoidable Death and Health Risk Factor\n",
    "left = df_Avoidable_Death\n",
    "right = df_Health_Risk_Factor \n",
    "BigDF = pd.merge(left, right, on = ['lga_code', 'lga_name']) \n"
   ]
  },
  {
   "cell_type": "markdown",
   "metadata": {
    "heading_collapsed": true,
    "hidden": true
   },
   "source": [
    "## Handling Missing Values"
   ]
  },
  {
   "cell_type": "code",
   "execution_count": null,
   "metadata": {
    "ExecuteTime": {
     "end_time": "2018-05-07T22:54:31.129944Z",
     "start_time": "2018-05-07T22:54:31.100877Z"
    },
    "hidden": true
   },
   "outputs": [],
   "source": [
    "# Solution for Missing Value\n",
    "Number_of_Null_Values_per_Row = BigDF.isnull().sum(axis = 1)\n",
    "Index_of_Number_of_Null_Values_per_Row_Excess_Three = Number_of_Null_Values_per_Row\\\n",
    ".loc[Number_of_Null_Values_per_Row>3]\n",
    "\n",
    "# Delete Records contains more than 3 missing value(exclusive)\n",
    "BigDF = BigDF.drop(Index_of_Number_of_Null_Values_per_Row_Excess_Three.index)\n",
    "\n",
    "# Fullfill the remain records have null value by mean value\n",
    "Mean_Values_All = BigDF.mean()\n",
    "BigDF_Keys = BigDF.keys()\n",
    "for i in BigDF_Keys[2:]:\n",
    "    BigDF[i].fillna(Mean_Values_All[i], inplace=True)\n",
    "    \n",
    "# Then separate two datasets for futher using\n",
    "df_new_Avoidable_Death = BigDF.iloc[:, 2:7]\n",
    "df_new_Health_Risk_Factor= BigDF.iloc[:, 7:16]"
   ]
  },
  {
   "cell_type": "markdown",
   "metadata": {
    "heading_collapsed": true,
    "hidden": true
   },
   "source": [
    "## Adding Values"
   ]
  },
  {
   "cell_type": "code",
   "execution_count": null,
   "metadata": {
    "ExecuteTime": {
     "end_time": "2018-05-07T22:54:31.181083Z",
     "start_time": "2018-05-07T22:54:31.134958Z"
    },
    "hidden": true
   },
   "outputs": [],
   "source": [
    "# Add a new feature that is the sum of all kinds of avoidable death for every remian area\n",
    "Avoidable_Death_Total = BigDF.iloc[:, 2:7].sum(axis=1)\n",
    "BigDF['Avoidable_Death_Total'] = Avoidable_Death_Total\n",
    "df_new_Avoidable_Death['Avoidable_Death_Total'] = Avoidable_Death_Total\n",
    "\n",
    "# Add a new feature thar is the approximate sum of peolpe that have health risk factor for every remain area\n",
    "# But does not contain FruitAdequateIntake_per100 feature since it is a healthy feature\n",
    "Health_Risk_Factor_Total = BigDF.iloc[:, 8:16].sum(axis = 1)\n",
    "BigDF['Health_Risk_Factor_Total'] = Health_Risk_Factor_Total\n",
    "df_new_Health_Risk_Factor['Health_Risk_Factor_Total'] = Health_Risk_Factor_Total\n",
    "\n",
    "#Ratio = Avoidable_Death_Total_Over_Health_Risk_Factor_Total\n",
    "Ratio = BigDF['Avoidable_Death_Total']/BigDF['Health_Risk_Factor_Total']\n",
    "BigDF['Ratio'] = Ratio"
   ]
  },
  {
   "cell_type": "markdown",
   "metadata": {
    "heading_collapsed": true,
    "hidden": true
   },
   "source": [
    "## Outliers Detection"
   ]
  },
  {
   "cell_type": "code",
   "execution_count": null,
   "metadata": {
    "ExecuteTime": {
     "end_time": "2018-05-07T22:54:31.543043Z",
     "start_time": "2018-05-07T22:54:31.187597Z"
    },
    "hidden": true
   },
   "outputs": [],
   "source": [
    "# Outlier Detection and Solving\n",
    "\n",
    "# Boxplot for total number of avoidable death for each area per 100, 000\n",
    "plt.boxplot(BigDF['Avoidable_Death_Total'])\n",
    "plt.ylabel('Population per 100, 000')\n",
    "plt.xlabel('Total number of Avoidable Death')\n",
    "plt.title('Total number of Avoidable Death \\n in Victoria in 2015')\n",
    "plt.show()\n",
    "\n",
    "# Boxplot for population have health risk factor per 100\n",
    "plt.boxplot(BigDF['Health_Risk_Factor_Total'])\n",
    "plt.ylabel('Population per 100')\n",
    "plt.xlabel('Population have health risk factor')\n",
    "plt.title('Populayion have health risk factor \\n per 100 in Victorial 2015')\n",
    "plt.show()\n",
    "\n",
    "# Boxplot for ratio\n",
    "plt.boxplot(BigDF['Ratio'])\n",
    "plt.ylabel('Avoidable_Death_Total_\\nOver Health_Risk_Factor_Total')\n",
    "plt.xlabel('Ratio')\n",
    "plt.title('Avoidable_Death_Total_Over_Health_Risk_Factor_Total \\n in Victorial 2015')\n",
    "plt.show()"
   ]
  },
  {
   "cell_type": "code",
   "execution_count": null,
   "metadata": {
    "ExecuteTime": {
     "end_time": "2018-05-07T22:54:31.607714Z",
     "start_time": "2018-05-07T22:54:31.548057Z"
    },
    "hidden": true
   },
   "outputs": [],
   "source": [
    "# find the area with extremel hign number of people died from avoidable death -\n",
    "# - by extracting the record with max Avoidable_Death_Total\n",
    "BigDF.sort_values(['Avoidable_Death_Total'], ascending = False).head()"
   ]
  },
  {
   "cell_type": "code",
   "execution_count": null,
   "metadata": {
    "ExecuteTime": {
     "end_time": "2018-05-07T22:54:31.652334Z",
     "start_time": "2018-05-07T22:54:31.612227Z"
    },
    "hidden": true
   },
   "outputs": [],
   "source": [
    "# find the area with extremel hign ratio\n",
    "# - by extracting the record with max Ratio\n",
    "BigDF.sort_values(['Ratio'], ascending = False).head(1)"
   ]
  },
  {
   "cell_type": "markdown",
   "metadata": {},
   "source": [
    "# Data Visualisation and Analysis"
   ]
  },
  {
   "cell_type": "markdown",
   "metadata": {
    "heading_collapsed": true
   },
   "source": [
    "## Total Avoidable Death in Victoria in 2015 "
   ]
  },
  {
   "cell_type": "code",
   "execution_count": null,
   "metadata": {
    "ExecuteTime": {
     "end_time": "2018-05-07T22:54:31.675394Z",
     "start_time": "2018-05-07T22:54:31.655848Z"
    },
    "hidden": true
   },
   "outputs": [],
   "source": [
    "print(\"Total Avoidable Death in Vic in 2015 is %.0f people.\" %(BigDF['Avoidable_Death_Total'].sum()))"
   ]
  },
  {
   "cell_type": "markdown",
   "metadata": {
    "heading_collapsed": true
   },
   "source": [
    "## Scatter Plot :Toal Avoidable Death Against Toal Health Risk Factor "
   ]
  },
  {
   "cell_type": "code",
   "execution_count": null,
   "metadata": {
    "ExecuteTime": {
     "end_time": "2018-05-07T22:54:31.840333Z",
     "start_time": "2018-05-07T22:54:31.679906Z"
    },
    "hidden": true,
    "scrolled": true
   },
   "outputs": [],
   "source": [
    "# Scatter plot\n",
    "plt.scatter(BigDF['Avoidable_Death_Total'], BigDF['Health_Risk_Factor_Total'], color='red')\n",
    "plt.title(\"Total Avoidable Death per 100,000\\n VS. Population have health risk factor per 100\")\n",
    "plt.ylabel(\"Population have health risk factor per 100\")\n",
    "plt.xlabel(\"Total Avoidable Death per 100,000\")\n",
    "\n",
    "# plot the linear regression line\n",
    "Info = linregress(BigDF['Avoidable_Death_Total'], BigDF['Health_Risk_Factor_Total'])\n",
    "LinearRegressionLinePlot(Info[0], Info[1])\n",
    "plt.show()\n",
    "\n",
    "print(\"Slope:%.2f,\" % (Info[0]), \"Intercept:%.2f.\" % (Info[1]))\n",
    "print(\"Pearson r is %.2f\" % (BigDF['Avoidable_Death_Total'].corr(BigDF['Health_Risk_Factor_Total'])))"
   ]
  },
  {
   "cell_type": "markdown",
   "metadata": {
    "hidden": true
   },
   "source": [
    "### Analysis\n",
    "The above scatter graph shows a nearly strong correlation between total avoidable death and population having health risk factor. Thus move into more detail steps which is compare each feature in avoidable death and health risk factor."
   ]
  },
  {
   "cell_type": "markdown",
   "metadata": {
    "heading_collapsed": true
   },
   "source": [
    "## Heat Map: Pearson correlation matrix of features of avoidable death Against features of health risk factors"
   ]
  },
  {
   "cell_type": "markdown",
   "metadata": {
    "heading_collapsed": true,
    "hidden": true
   },
   "source": [
    "### Visulisation "
   ]
  },
  {
   "cell_type": "code",
   "execution_count": null,
   "metadata": {
    "ExecuteTime": {
     "end_time": "2018-05-07T22:54:31.858380Z",
     "start_time": "2018-05-07T22:54:31.846351Z"
    },
    "hidden": true
   },
   "outputs": [],
   "source": [
    "#compute the Pearson correlation matrix of features of avoidable death Against features of health risk factors\n",
    "Corr_Matric_All = BigDF.iloc[:, 2:].corr()\n",
    "\n",
    "Result = Corr_Matric_All[['diabetes_per100,000','cancer_per100,000',\\\n",
    "                 'colorectal_per100,000', 'pulmonary _per100,000',\\\n",
    "                'cerebrovascular_per100,000']].loc\\\n",
    "[['FruitAdequateIntake_per100','obese_per100', 'RiskWaistMeasurement_per100',\\\n",
    " 'LowExercise_per100', 'PsychologicalDistress_per100', 'Somker_per100', \\\n",
    " 'RiskAlcoholConsumption_per100', 'HighBloodPressure_per100',\n",
    "       'Overweight_per100']]"
   ]
  },
  {
   "cell_type": "code",
   "execution_count": null,
   "metadata": {
    "ExecuteTime": {
     "end_time": "2018-05-07T22:54:31.893979Z",
     "start_time": "2018-05-07T22:54:31.863396Z"
    },
    "hidden": true
   },
   "outputs": [],
   "source": [
    "# Display the correlation matrix\n",
    "Result"
   ]
  },
  {
   "cell_type": "code",
   "execution_count": null,
   "metadata": {
    "ExecuteTime": {
     "end_time": "2018-05-07T22:54:32.115564Z",
     "start_time": "2018-05-07T22:54:31.897986Z"
    },
    "hidden": true
   },
   "outputs": [],
   "source": [
    "# plot the heatmap of correlation matrix\n",
    "ax = sns.heatmap(Result, cmap=\"bwr\", square = True)\n",
    "ax.xaxis.tick_top()\n",
    "plt.xticks(rotation = 90)\n",
    "ax.set_title('Pearson Correlation about\\n Avoidable Death against Health Risk Factor',\\\n",
    "             rotation='horizontal',x=0.5 ,y= -0.22)\n",
    "plt.show()"
   ]
  },
  {
   "cell_type": "code",
   "execution_count": null,
   "metadata": {
    "hidden": true
   },
   "outputs": [],
   "source": []
  },
  {
   "cell_type": "markdown",
   "metadata": {
    "heading_collapsed": true,
    "hidden": true
   },
   "source": [
    "### Analysis"
   ]
  },
  {
   "cell_type": "markdown",
   "metadata": {
    "hidden": true
   },
   "source": [
    "By viewing the heat map above the following information could be generated\n",
    "1. FruitAdequateIntake_per100 has a ***negative*** correlation with all kinds of avoidable death causes\n",
    "2. obese_per100 has a ***positive*** correlation with all kinds of avoidable death causes\n",
    "3. RiskWaistMearsurement_per100 has a ***positive*** correlation with all kinds of avoidable death causes\n",
    "4. LowExercise_per100 has a ***positive*** correlation with all kinds of avoidable death causes\n",
    "5. PsychologicalDistress_per100 has a ***positive*** correlation with all kinds of avoidable death causes\n",
    "6. Somker_per100 has a ***positive*** correlation with all kinds of avoidable death causes\n",
    "7. RiskAlcoholConsumption_per100 has ***almost no*** correlation with all kinds of avoidable death causes\n",
    "8. HighBloodPressure_per100 has ***almost no*** correlation with all kinds of avoidable death causes\n",
    "9. Overweight_per100 has a ***negative*** correlation with all kinds of avoidable death causes\n",
    "\n",
    "\n",
    "- Summary\n",
    "    - The information 1 to 6 is useful, cause they give good correlation and is reasonable.\n",
    "    - The infomation 7, 8 and 9 is useless, because 7 and 8 give no correlation as well as 9 illustrates that as Overweight_per100 increases the each kinds of avoidable death become less. Which encourages us to be overweight, if we want to prevent avoidable death. This is not real and acceptable. \n",
    "\n",
    "    - Then, I am going to delete these three health risk factors."
   ]
  },
  {
   "cell_type": "markdown",
   "metadata": {
    "heading_collapsed": true,
    "hidden": true
   },
   "source": [
    "### Drop features"
   ]
  },
  {
   "cell_type": "code",
   "execution_count": null,
   "metadata": {
    "ExecuteTime": {
     "end_time": "2018-05-07T22:54:32.129602Z",
     "start_time": "2018-05-07T22:54:32.121079Z"
    },
    "hidden": true
   },
   "outputs": [],
   "source": [
    "BigDF = BigDF.drop(columns = ['RiskAlcoholConsumption_per100', 'HighBloodPressure_per100', 'Overweight_per100'])\n",
    "df_new_Health_Risk_Factor = df_new_Health_Risk_Factor.drop(columns = ['RiskAlcoholConsumption_per100', 'HighBloodPressure_per100', 'Overweight_per100'])"
   ]
  },
  {
   "cell_type": "code",
   "execution_count": null,
   "metadata": {
    "ExecuteTime": {
     "end_time": "2018-05-07T22:54:32.147149Z",
     "start_time": "2018-05-07T22:54:32.134113Z"
    },
    "hidden": true
   },
   "outputs": [],
   "source": [
    "print(df_new_Health_Risk_Factor.keys())"
   ]
  },
  {
   "cell_type": "markdown",
   "metadata": {
    "heading_collapsed": true,
    "hidden": true
   },
   "source": [
    "### Recompute Pearson Correlation and Draw Heat Map "
   ]
  },
  {
   "cell_type": "code",
   "execution_count": null,
   "metadata": {
    "ExecuteTime": {
     "end_time": "2018-05-07T22:54:32.163190Z",
     "start_time": "2018-05-07T22:54:32.152161Z"
    },
    "hidden": true
   },
   "outputs": [],
   "source": [
    "#compute the Pearson correlation matrix of features of avoidable death Against features of health risk factors\n",
    "Corr_Matric_All = BigDF.iloc[:, 2:].corr()\n",
    "\n",
    "Result = Corr_Matric_All[['diabetes_per100,000','cancer_per100,000',\\\n",
    "                 'colorectal_per100,000', 'pulmonary _per100,000',\\\n",
    "                'cerebrovascular_per100,000']].loc\\\n",
    "[['FruitAdequateIntake_per100','obese_per100', 'RiskWaistMeasurement_per100',\\\n",
    " 'LowExercise_per100', 'PsychologicalDistress_per100', 'Somker_per100']]"
   ]
  },
  {
   "cell_type": "code",
   "execution_count": null,
   "metadata": {
    "hidden": true
   },
   "outputs": [],
   "source": []
  },
  {
   "cell_type": "code",
   "execution_count": null,
   "metadata": {
    "ExecuteTime": {
     "end_time": "2018-05-07T22:54:32.186252Z",
     "start_time": "2018-05-07T22:54:32.167703Z"
    },
    "hidden": true
   },
   "outputs": [],
   "source": [
    "# Display the correlation matrix\n",
    "Result"
   ]
  },
  {
   "cell_type": "code",
   "execution_count": null,
   "metadata": {
    "ExecuteTime": {
     "end_time": "2018-05-07T22:54:32.418372Z",
     "start_time": "2018-05-07T22:54:32.190264Z"
    },
    "hidden": true
   },
   "outputs": [],
   "source": [
    "# plot the heatmap of correlation matrix\n",
    "ax = sns.heatmap(Result, cmap=\"bwr\", square = True)\n",
    "ax.xaxis.tick_top()\n",
    "plt.xticks(rotation = 90)\n",
    "ax.set_title('Pearson Correlation about\\n Avoidable Death against Health Risk Factor',\\\n",
    "             rotation='horizontal',x=0.5 ,y= -0.22)\n",
    "plt.show()"
   ]
  },
  {
   "cell_type": "markdown",
   "metadata": {
    "heading_collapsed": true
   },
   "source": [
    "## Bar Chart For Viewing Distribution"
   ]
  },
  {
   "cell_type": "markdown",
   "metadata": {
    "heading_collapsed": true,
    "hidden": true
   },
   "source": [
    "### Visualisation "
   ]
  },
  {
   "cell_type": "code",
   "execution_count": null,
   "metadata": {
    "ExecuteTime": {
     "end_time": "2018-05-07T22:54:35.394332Z",
     "start_time": "2018-05-07T22:54:32.421379Z"
    },
    "hidden": true
   },
   "outputs": [],
   "source": [
    "# Bar Chart for Avoidable Death Causes for each area\n",
    "df1 = df_new_Avoidable_Death.sort_values(by = \"Avoidable_Death_Total\", ascending = False)\n",
    "ax = df1.iloc[:, :5].plot(kind=\"bar\", stacked=True, figsize = (20,10))\n",
    "ax.set_xticklabels(BigDF['lga_name'])\n",
    "ax.set_title(\"Bar Chart for Avoidable Death Causes for each area\")\n",
    "\n",
    "# Bar Chart for Health Risk Factores for each area\n",
    "df2 = df_new_Health_Risk_Factor.sort_values(by = \"Health_Risk_Factor_Total\", ascending = False)\n",
    "ax2 = df2.iloc[:,:6].plot(kind=\"bar\", stacked=True, figsize = (20,10))\n",
    "ax2.set_xticklabels(BigDF['lga_name'])\n",
    "ax2.set_title(\"# Bar Chart for Avoidable Death Causes for each area\")\n",
    "plt.show()"
   ]
  },
  {
   "cell_type": "markdown",
   "metadata": {
    "heading_collapsed": true,
    "hidden": true
   },
   "source": [
    "### Analysis "
   ]
  },
  {
   "cell_type": "markdown",
   "metadata": {
    "hidden": true
   },
   "source": [
    "From Figure 1, we can see that each avoidable death causes distributed in each area is similary. Furthermore, figure 2 gives same condition that each health risk factors distributed in each area is similar. \n",
    "\n",
    "Since, they all distributed similarly, I can draw pie chart to see the overall proportion of avoidable death causes and health risk factors."
   ]
  },
  {
   "cell_type": "markdown",
   "metadata": {
    "heading_collapsed": true
   },
   "source": [
    "## Pie Chart "
   ]
  },
  {
   "cell_type": "markdown",
   "metadata": {
    "heading_collapsed": true,
    "hidden": true
   },
   "source": [
    "### Visuaisation "
   ]
  },
  {
   "cell_type": "code",
   "execution_count": null,
   "metadata": {
    "ExecuteTime": {
     "end_time": "2018-05-07T22:54:35.637377Z",
     "start_time": "2018-05-07T22:54:35.396336Z"
    },
    "hidden": true
   },
   "outputs": [],
   "source": [
    "df1 = df_new_Avoidable_Death.sort_values(by = \"Avoidable_Death_Total\", ascending = False)\n",
    "df2 = df_new_Health_Risk_Factor.sort_values(by = \"Health_Risk_Factor_Total\", ascending = False)\n",
    "Key_df1 = df1.keys()\n",
    "Key_df2 = df2.keys()\n",
    "\n",
    "\n",
    "ax = plt.pie(df1.sum().iloc[:5], labels = Key_df1[:5], autopct = '%1.2f%%')\n",
    "plt.title(\"Avoidable Death in Victoria in 2015\")\n",
    "plt.show(ax)\n",
    "\n",
    "\n",
    "ax2 =plt.pie(df2.sum().iloc[:6], labels = Key_df2[:6], autopct = '%1.2f%%')\n",
    "plt.title(\"Health Risk Factor in Victorial in 2015\")\n",
    "plt.show(ax2)"
   ]
  },
  {
   "cell_type": "markdown",
   "metadata": {
    "heading_collapsed": true,
    "hidden": true
   },
   "source": [
    "### Analysis "
   ]
  },
  {
   "cell_type": "markdown",
   "metadata": {
    "hidden": true
   },
   "source": [
    "- Around 47.38% avoidable death caused by cancer. People should go to hospital for diagnosing cancer desease regularly. \n",
    "- Almost 68% people with risk waist mearsurement, low exercise as well as obese, I suggest we should encourage people to do more exercise and build more public exercising places such as green park and public sports equipment."
   ]
  },
  {
   "cell_type": "markdown",
   "metadata": {},
   "source": [
    "## VAT for number of clusters"
   ]
  },
  {
   "cell_type": "markdown",
   "metadata": {
    "heading_collapsed": true
   },
   "source": [
    "### VAT Function from week6 WS"
   ]
  },
  {
   "cell_type": "code",
   "execution_count": null,
   "metadata": {
    "ExecuteTime": {
     "end_time": "2018-05-07T22:54:35.669491Z",
     "start_time": "2018-05-07T22:54:35.640885Z"
    },
    "hidden": true
   },
   "outputs": [],
   "source": [
    "import numpy as np\n",
    "import math,random\n",
    "from scipy.spatial.distance import pdist, squareform\n",
    "import pandas as pd\n",
    "import matplotlib.pyplot as plt\n",
    "%matplotlib inline\n",
    "\n",
    "\n",
    "\n",
    "def VAT(R):\n",
    "    \"\"\"\n",
    "\n",
    "    VAT algorithm adapted from matlab version:\n",
    "    http://www.ece.mtu.edu/~thavens/code/VAT.m\n",
    "\n",
    "    Args:\n",
    "        R (n*n double): Dissimilarity data input\n",
    "        R (n*D double): vector input (R is converted to sq. Euclidean distance)\n",
    "    Returns:\n",
    "        RV (n*n double): VAT-reordered dissimilarity data\n",
    "        C (n int): Connection indexes of MST in [0,n)\n",
    "        I (n int): Reordered indexes of R, the input data in [0,n)\n",
    "    \"\"\"\n",
    "        \n",
    "    R = np.array(R)\n",
    "    N, M = R.shape\n",
    "    if N != M:\n",
    "        R = squareform(pdist(R))\n",
    "        \n",
    "    J = list(range(0, N))\n",
    "    \n",
    "    y = np.max(R, axis=0)\n",
    "    i = np.argmax(R, axis=0)\n",
    "    j = np.argmax(y)\n",
    "    y = np.max(y)\n",
    "\n",
    "\n",
    "    I = i[j]\n",
    "    del J[I]\n",
    "\n",
    "    y = np.min(R[I,J], axis=0)\n",
    "    j = np.argmin(R[I,J], axis=0)\n",
    "    \n",
    "    I = [I, J[j]]\n",
    "    J = [e for e in J if e != J[j]]\n",
    "    \n",
    "    C = [1,1]\n",
    "    for r in range(2, N-1):   \n",
    "        y = np.min(R[I,:][:,J], axis=0)\n",
    "        i = np.argmin(R[I,:][:,J], axis=0)\n",
    "        j = np.argmin(y)        \n",
    "        y = np.min(y)      \n",
    "        I.extend([J[j]])\n",
    "        J = [e for e in J if e != J[j]]\n",
    "        C.extend([i[j]])\n",
    "    \n",
    "    y = np.min(R[I,:][:,J], axis=0)\n",
    "    i = np.argmin(R[I,:][:,J], axis=0)\n",
    "    \n",
    "    I.extend(J)\n",
    "    C.extend(i)\n",
    "    \n",
    "    RI = list(range(N))\n",
    "    for idx, val in enumerate(I):\n",
    "        RI[val] = idx\n",
    "\n",
    "    RV = R[I,:][:,I]\n",
    "    \n",
    "    return RV.tolist(), C, I\n",
    "\n",
    "\n"
   ]
  },
  {
   "cell_type": "markdown",
   "metadata": {
    "heading_collapsed": true
   },
   "source": [
    "### VAT "
   ]
  },
  {
   "cell_type": "code",
   "execution_count": null,
   "metadata": {
    "ExecuteTime": {
     "end_time": "2018-05-07T22:54:35.680992Z",
     "start_time": "2018-05-07T22:54:35.672470Z"
    },
    "hidden": true
   },
   "outputs": [],
   "source": [
    "df3 = pd.DataFrame({'Avoidabel_Death_Total': BigDF['Avoidable_Death_Total']})"
   ]
  },
  {
   "cell_type": "code",
   "execution_count": null,
   "metadata": {
    "ExecuteTime": {
     "end_time": "2018-05-07T22:54:35.789279Z",
     "start_time": "2018-05-07T22:54:35.687514Z"
    },
    "hidden": true
   },
   "outputs": [],
   "source": [
    "sns.heatmap(df3,cmap='viridis',xticklabels=True,yticklabels=False)\n",
    "plt.show()"
   ]
  },
  {
   "cell_type": "code",
   "execution_count": null,
   "metadata": {
    "ExecuteTime": {
     "end_time": "2018-05-07T22:54:35.903584Z",
     "start_time": "2018-05-07T22:54:35.792287Z"
    },
    "hidden": true
   },
   "outputs": [],
   "source": [
    "####Visualise the dissimilarity matrix for Iris using a heatmap (without applying VAT)####\n",
    "df4=df3.copy().as_matrix()\n",
    "np.random.shuffle(df4)   ####randomise the order of rows (objects)\n",
    "sq = squareform(pdist(df4))   ###commpute the dissimilarity matrix\n",
    "ax=sns.heatmap(sq,cmap='viridis',xticklabels=False,yticklabels=False)\n",
    "ax.set(xlabel='Objects', ylabel='Objects')\n",
    "plt.show()"
   ]
  },
  {
   "cell_type": "code",
   "execution_count": null,
   "metadata": {
    "ExecuteTime": {
     "end_time": "2018-05-07T22:54:36.018389Z",
     "start_time": "2018-05-07T22:54:35.907593Z"
    },
    "hidden": true,
    "scrolled": true
   },
   "outputs": [],
   "source": [
    "#####Apply VAT Algorithm to Iris dataset and visualise using heatmap########\n",
    "RV, C, I = VAT(df3)\n",
    "x=sns.heatmap(RV,cmap='viridis',xticklabels=False,yticklabels=False)\n",
    "x.set(xlabel='Objects', ylabel='Objects')\n",
    "plt.show()"
   ]
  },
  {
   "cell_type": "markdown",
   "metadata": {
    "heading_collapsed": true
   },
   "source": [
    "### VAT Analysis "
   ]
  },
  {
   "cell_type": "markdown",
   "metadata": {
    "hidden": true
   },
   "source": [
    "- From VAT graph above, we can see there are about 3 clusters in Avoidable_Death_Total"
   ]
  },
  {
   "cell_type": "markdown",
   "metadata": {
    "heading_collapsed": true
   },
   "source": [
    "### Plot Clustering on Map of Victorial ON AURIN "
   ]
  },
  {
   "cell_type": "markdown",
   "metadata": {
    "hidden": true
   },
   "source": [
    "Export the avoidable death file, for later clustering on AURIN.\n",
    "The cluster number will be 3"
   ]
  },
  {
   "cell_type": "code",
   "execution_count": null,
   "metadata": {
    "ExecuteTime": {
     "end_time": "2018-05-07T22:54:36.027412Z",
     "start_time": "2018-05-07T22:54:36.021397Z"
    },
    "hidden": true
   },
   "outputs": [],
   "source": [
    "df_new_Avoidable_Death['Avoidable_Death_Total'] = BigDF['Avoidable_Death_Total']\n",
    "df_new_Avoidable_Death['lga_code'] = BigDF['lga_code']\n",
    "df_new_Avoidable_Death['lga_name'] = BigDF['lga_name']"
   ]
  },
  {
   "cell_type": "code",
   "execution_count": null,
   "metadata": {
    "ExecuteTime": {
     "end_time": "2018-05-07T22:54:36.044959Z",
     "start_time": "2018-05-07T22:54:36.030421Z"
    },
    "hidden": true
   },
   "outputs": [],
   "source": [
    "df_new_Avoidable_Death.to_csv('new_avoidable.csv', sep = ',')"
   ]
  },
  {
   "cell_type": "markdown",
   "metadata": {},
   "source": [
    "## More Scatter Plot "
   ]
  },
  {
   "cell_type": "code",
   "execution_count": null,
   "metadata": {
    "ExecuteTime": {
     "end_time": "2018-05-07T22:54:36.053981Z",
     "start_time": "2018-05-07T22:54:36.047967Z"
    }
   },
   "outputs": [],
   "source": [
    "Avoidable_Death_Total = BigDF[\"Avoidable_Death_Total\"]"
   ]
  },
  {
   "cell_type": "code",
   "execution_count": null,
   "metadata": {
    "ExecuteTime": {
     "end_time": "2018-05-07T22:54:36.067518Z",
     "start_time": "2018-05-07T22:54:36.058996Z"
    }
   },
   "outputs": [],
   "source": [
    "# Function for scatter ploting and compute pearson correlation as well as linear regression\n",
    "# @Argument: s1(Series) s2(Series) health_risk_factor_name(string)\n",
    "# Return: None\n",
    "def Scatter_and_Pearson_Corr(s2, s1, health_risk_factor_name):\n",
    "    # Scatter plot\n",
    "    plt.scatter(s1, s2, color='red')\n",
    "    plt.title(\"Total Avoidable Death per 100,000\\n VS. \"+ health_risk_factor_name)\n",
    "    plt.ylabel(\"Population  \"+ health_risk_factor_name)\n",
    "    plt.xlabel(\"Total Avoidable Death per 100,000\")\n",
    "\n",
    "    # plot the linear regression line\n",
    "    Info = linregress(s1, s2)\n",
    "    LinearRegressionLinePlot(Info[0], Info[1])\n",
    "    plt.show()\n",
    "\n",
    "    print(\"Slope:%.2f,\" % (Info[0]), \"Intercept:%.2f.\" % (Info[1]))\n",
    "    print(\"Pearson r is %.2f\" % (s1.corr(s2)))"
   ]
  },
  {
   "cell_type": "code",
   "execution_count": null,
   "metadata": {
    "ExecuteTime": {
     "end_time": "2018-05-07T22:54:36.934863Z",
     "start_time": "2018-05-07T22:54:36.071031Z"
    }
   },
   "outputs": [],
   "source": [
    "Scatter_and_Pearson_Corr(Avoidable_Death_Total, BigDF['FruitAdequateIntake_per100'],\\\n",
    "                         \"FruitAdequateIntake_per100\")\n",
    "Scatter_and_Pearson_Corr(Avoidable_Death_Total, BigDF['obese_per100'],\\\n",
    "                         \"obese_per100\")\n",
    "Scatter_and_Pearson_Corr(Avoidable_Death_Total, BigDF['RiskWaistMeasurement_per100'],\\\n",
    "                         \"RiskWaistMeasurement_per100\")\n",
    "Scatter_and_Pearson_Corr(Avoidable_Death_Total, BigDF['LowExercise_per100'],\\\n",
    "                         \"LowExercise_per100\")\n",
    "Scatter_and_Pearson_Corr(Avoidable_Death_Total, BigDF['PsychologicalDistress_per100'],\\\n",
    "                         \"PsychologicalDistress_per100\")\n",
    "Scatter_and_Pearson_Corr(Avoidable_Death_Total, BigDF['Somker_per100'],\\\n",
    "                         \"Somker_per100\")"
   ]
  },
  {
   "cell_type": "markdown",
   "metadata": {},
   "source": [
    "### Analysis "
   ]
  },
  {
   "cell_type": "markdown",
   "metadata": {},
   "source": [
    "From the scatter plot and pearson relation above, I would suggest peolpe take enough fruit and pay attention to reduce low exercise, obese, risk waist measurement, psychological distress as well as somking in order to prevent avoidable death."
   ]
  },
  {
   "cell_type": "code",
   "execution_count": null,
   "metadata": {},
   "outputs": [],
   "source": []
  }
 ],
 "metadata": {
  "kernelspec": {
   "display_name": "Python 3",
   "language": "python",
   "name": "python3"
  },
  "language_info": {
   "codemirror_mode": {
    "name": "ipython",
    "version": 3
   },
   "file_extension": ".py",
   "mimetype": "text/x-python",
   "name": "python",
   "nbconvert_exporter": "python",
   "pygments_lexer": "ipython3",
   "version": "3.6.4"
  },
  "toc": {
   "base_numbering": 1,
   "nav_menu": {
    "height": "320px",
    "width": "435px"
   },
   "number_sections": true,
   "sideBar": true,
   "skip_h1_title": false,
   "title_cell": "Table of Contents",
   "title_sidebar": "Contents",
   "toc_cell": false,
   "toc_position": {},
   "toc_section_display": true,
   "toc_window_display": false
  }
 },
 "nbformat": 4,
 "nbformat_minor": 2
}
