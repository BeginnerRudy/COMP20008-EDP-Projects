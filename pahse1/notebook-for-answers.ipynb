{
 "cells": [
  {
   "cell_type": "markdown",
   "metadata": {
    "toc": true
   },
   "source": [
    "<h1>Table of Contents<span class=\"tocSkip\"></span></h1>\n",
    "<div class=\"toc\"><ul class=\"toc-item\"><li><span><a href=\"#Student-Name:-Renjie-Meng\" data-toc-modified-id=\"Student-Name:-Renjie-Meng-1\">Student Name: Renjie Meng</a></span></li><li><span><a href=\"#Student-ID:-877396\" data-toc-modified-id=\"Student-ID:-877396-2\">Student ID: 877396</a></span></li><li><span><a href=\"#COMP20008-EDP-18S1-Phase-1\" data-toc-modified-id=\"COMP20008-EDP-18S1-Phase-1-3\">COMP20008 EDP 18S1 Phase 1</a></span><ul class=\"toc-item\"><li><span><a href=\"#Question-1\" data-toc-modified-id=\"Question-1-3.1\">Question 1</a></span></li><li><span><a href=\"#Question-2\" data-toc-modified-id=\"Question-2-3.2\">Question 2</a></span></li><li><span><a href=\"#Question-3\" data-toc-modified-id=\"Question-3-3.3\">Question 3</a></span></li><li><span><a href=\"#Question-4\" data-toc-modified-id=\"Question-4-3.4\">Question 4</a></span></li><li><span><a href=\"#Question-5\" data-toc-modified-id=\"Question-5-3.5\">Question 5</a></span></li><li><span><a href=\"#Question-6\" data-toc-modified-id=\"Question-6-3.6\">Question 6</a></span></li><li><span><a href=\"#Question-7\" data-toc-modified-id=\"Question-7-3.7\">Question 7</a></span></li><li><span><a href=\"#Question-8\" data-toc-modified-id=\"Question-8-3.8\">Question 8</a></span></li><li><span><a href=\"#Question-9\" data-toc-modified-id=\"Question-9-3.9\">Question 9</a></span></li><li><span><a href=\"#Question-10\" data-toc-modified-id=\"Question-10-3.10\">Question 10</a></span></li></ul></li></ul></div>"
   ]
  },
  {
   "cell_type": "markdown",
   "metadata": {},
   "source": [
    "# Student Name: Renjie Meng \n",
    "\n",
    "# Student ID: 877396"
   ]
  },
  {
   "cell_type": "markdown",
   "metadata": {},
   "source": [
    "# COMP20008 EDP 18S1 Phase 1 "
   ]
  },
  {
   "cell_type": "code",
   "execution_count": 1,
   "metadata": {
    "ExecuteTime": {
     "end_time": "2018-03-25T02:28:39.164515Z",
     "start_time": "2018-03-25T02:28:36.932532Z"
    }
   },
   "outputs": [
    {
     "ename": "ModuleNotFoundError",
     "evalue": "No module named 'pandas'",
     "output_type": "error",
     "traceback": [
      "\u001b[0;31m---------------------------------------------------------------------------\u001b[0m",
      "\u001b[0;31mModuleNotFoundError\u001b[0m                       Traceback (most recent call last)",
      "\u001b[0;32m<ipython-input-1-bf5c5ff7db20>\u001b[0m in \u001b[0;36m<module>\u001b[0;34m\u001b[0m\n\u001b[1;32m      1\u001b[0m \u001b[0;31m#Any general code that you want to reuse in the following answers\u001b[0m\u001b[0;34m\u001b[0m\u001b[0;34m\u001b[0m\u001b[0;34m\u001b[0m\u001b[0m\n\u001b[0;32m----> 2\u001b[0;31m \u001b[0;32mimport\u001b[0m \u001b[0mpandas\u001b[0m \u001b[0;32mas\u001b[0m \u001b[0mpd\u001b[0m\u001b[0;34m\u001b[0m\u001b[0;34m\u001b[0m\u001b[0m\n\u001b[0m\u001b[1;32m      3\u001b[0m \u001b[0;32mimport\u001b[0m \u001b[0mmatplotlib\u001b[0m\u001b[0;34m.\u001b[0m\u001b[0mpyplot\u001b[0m \u001b[0;32mas\u001b[0m \u001b[0mplt\u001b[0m\u001b[0;34m\u001b[0m\u001b[0;34m\u001b[0m\u001b[0m\n\u001b[1;32m      4\u001b[0m \u001b[0;32mimport\u001b[0m \u001b[0mdatetime\u001b[0m \u001b[0;32mas\u001b[0m \u001b[0mdt\u001b[0m\u001b[0;34m\u001b[0m\u001b[0;34m\u001b[0m\u001b[0m\n\u001b[1;32m      5\u001b[0m \u001b[0;32mfrom\u001b[0m \u001b[0mpandas\u001b[0m\u001b[0;34m.\u001b[0m\u001b[0mplotting\u001b[0m \u001b[0;32mimport\u001b[0m \u001b[0mparallel_coordinates\u001b[0m\u001b[0;34m\u001b[0m\u001b[0;34m\u001b[0m\u001b[0m\n",
      "\u001b[0;31mModuleNotFoundError\u001b[0m: No module named 'pandas'"
     ]
    }
   ],
   "source": [
    "#Any general code that you want to reuse in the following answers\n",
    "import pandas as pd\n",
    "import matplotlib.pyplot as plt\n",
    "import datetime as dt\n",
    "from pandas.plotting import parallel_coordinates\n",
    "\n",
    "\n",
    "#Reading the data into a dataframe.\n",
    "cleanJan = pd.read_csv('clean-january.csv',encoding = 'ISO-8859-1')\n",
    "tripDistance = cleanJan['trip_distance']"
   ]
  },
  {
   "cell_type": "markdown",
   "metadata": {},
   "source": [
    "## Question 1"
   ]
  },
  {
   "cell_type": "code",
   "execution_count": null,
   "metadata": {
    "ExecuteTime": {
     "end_time": "2018-03-25T02:19:53.438127Z",
     "start_time": "2018-03-25T02:19:53.320808Z"
    }
   },
   "outputs": [],
   "source": [
    "#Answer to 1\n",
    "\n",
    "# This function takes trip_distance as an argument. \n",
    "# A short trip has distance 0 < d < 3, otherwise it is not.\n",
    "# Returns 1 for a short trip, 0 for otherwise.\n",
    "def is_short_trip(tripDistance):\n",
    "    if 0<tripDistance<3:\n",
    "        return 1\n",
    "    else: \n",
    "        return 0\n",
    "    \n",
    "# check each trip distance whether it is a short trip or not\n",
    "# store the values in a list then convert into a series\n",
    "Short_Trip=[];\n",
    "for distance in tripDistance:\n",
    "    Short_Trip.append(is_short_trip(distance))\n",
    "Short_Trip_Series = pd.Series(Short_Trip)\n",
    "\n",
    "# create new data frame\n",
    "newDataFrame =cleanJan[['trip_distance', 'passenger_count', 'payment_amount', 'duration']]\n",
    "pd.DataFrame.insert(newDataFrame, 0, 'Short_Trip', Short_Trip_Series)\n",
    "newDataFrame = newDataFrame.rename(index = str, columns = {'trip_distance':'Trip_distance', \n",
    "                                            'passenger_count':'Passenger_count', \n",
    "                                            'payment_amount': 'Payment_amouunt',\n",
    "                                            'duration': 'Duration'})\n",
    "\n",
    "# calculate the percentage of short trips\n",
    "percentageOfShortTrips = (newDataFrame.iloc[: ,0].sum())/(newDataFrame.iloc[:,0].count())\n",
    "\n",
    "# print out the percentage of short trips\n",
    "print(\"Question1\\n%% of short trips=%.1f\\n***\"%(100*percentageOfShortTrips))"
   ]
  },
  {
   "cell_type": "markdown",
   "metadata": {
    "heading_collapsed": true
   },
   "source": [
    "## Question 2"
   ]
  },
  {
   "cell_type": "code",
   "execution_count": null,
   "metadata": {
    "ExecuteTime": {
     "end_time": "2018-03-25T02:19:53.448147Z",
     "start_time": "2018-03-25T02:19:53.440126Z"
    },
    "hidden": true
   },
   "outputs": [],
   "source": [
    "#Answer to 2\n",
    "# get the median of TripDistance and TripDuration\n",
    "meadianTripDistance = tripDistance.median()\n",
    "meadianTripDuration = cleanJan['duration'].median()\n",
    "# print out the median trip distance and duration\n",
    "print(\"Question 2 median trip distance\\nJanuary: %.1f\\n***\"%meadianTripDistance)\n",
    "print(\"Question 2 median trip duration\\nJanuary: %.1f\\n***\"%meadianTripDuration)"
   ]
  },
  {
   "cell_type": "markdown",
   "metadata": {
    "heading_collapsed": true
   },
   "source": [
    "## Question 3"
   ]
  },
  {
   "cell_type": "code",
   "execution_count": null,
   "metadata": {
    "ExecuteTime": {
     "end_time": "2018-03-25T02:19:53.494298Z",
     "start_time": "2018-03-25T02:19:53.450152Z"
    },
    "hidden": true
   },
   "outputs": [],
   "source": [
    "#Answer to 3\n",
    "\n",
    "# This function takes a float tripDistance as an argument\n",
    "# normal distance is 1.2<= d <=4.5\n",
    "# Returns 1 for normal distance, 0 for otherwise\n",
    "\n",
    "def is_distance_normal(tripDistance):\n",
    "    if 1.2<=tripDistance<=4.5:\n",
    "        return 1\n",
    "    else:\n",
    "        return 0\n",
    "\n",
    "# count the trip distance which fall in the range of normal (1.2<=d<=4.5)\n",
    "normalCount = 0\n",
    "for distance in tripDistance:\n",
    "    normalCount += is_distance_normal(distance)\n",
    "\n",
    "# calculate the percetage of abnormal trip distance\n",
    "percentageOfNormalTripDistance = 1 - normalCount/(tripDistance.count())\n",
    "\n",
    "# print out the percentage of abnormal distance\n",
    "print(\"Question 3\\n%.1f%% of instances in 'tripdistance' are abnormal! \\\n",
    "(normal range is between 1.2 and 4.5)\\n***\"%(100*percentageOfNormalTripDistance))"
   ]
  },
  {
   "cell_type": "markdown",
   "metadata": {
    "heading_collapsed": true
   },
   "source": [
    "## Question 4"
   ]
  },
  {
   "cell_type": "code",
   "execution_count": null,
   "metadata": {
    "ExecuteTime": {
     "end_time": "2018-03-25T02:19:53.699816Z",
     "start_time": "2018-03-25T02:19:53.496276Z"
    },
    "hidden": true
   },
   "outputs": [],
   "source": [
    "#Answer to 4\n",
    "#get the puckup datetime index\n",
    "pickupDateTimeIndex = pd.DatetimeIndex(cleanJan['pickup_datetime'])\n",
    "#slice pickup datetime index\n",
    "morningPeriodIndex = pickupDateTimeIndex.indexer_between_time('7:00', '11:00')\n",
    "afternoonPeriodIndex = pickupDateTimeIndex.indexer_between_time('12:00', '15:00')\n",
    "#slice payment amount with respect to sliced pick up date time\n",
    "morningPeriod = cleanJan['payment_amount'].iloc[morningPeriodIndex]\n",
    "afternoonPeriod = cleanJan['payment_amount'].iloc[afternoonPeriodIndex]\n",
    "#plot two boxplot toghther\n",
    "plt.clf()\n",
    "concatInfo = pd.concat([morningPeriod, afternoonPeriod], \\\n",
    "                       axis = 1, keys = ['7:00-11:00\\nMorning Period', '12:00-15:00\\nAfternoon Period'])\n",
    "concatInfo.boxplot()\n",
    "plt.title('Payment Amount Jan 2016')\n",
    "plt.show()"
   ]
  },
  {
   "cell_type": "markdown",
   "metadata": {},
   "source": [
    "## Question 5"
   ]
  },
  {
   "cell_type": "code",
   "execution_count": null,
   "metadata": {
    "ExecuteTime": {
     "end_time": "2018-03-25T02:19:56.504295Z",
     "start_time": "2018-03-25T02:19:53.701823Z"
    }
   },
   "outputs": [],
   "source": [
    "#Answer to 5\n",
    "#load start and end time\n",
    "#set our peak duration\n",
    "tStart = pd.to_datetime(cleanJan['pickup_datetime'], format = '%d/%m/%y %H:%M')\n",
    "tEnd = pd.to_datetime(cleanJan['dropoff_datetime'], format = '%d/%m/%y %H:%M')\n",
    "SevenOClock = pd.to_datetime('07:00', format = '%H:%M')\n",
    "NineOClock = pd.to_datetime('08:59', format = '%H:%M')\n",
    "\n",
    "#@parameter tStart, tEnd\n",
    "#if the 07:00:00<=time<=08:59:00\n",
    "#return 1\n",
    "#Otherwise, return 0\n",
    "def is_peak(tStart, tEnd):\n",
    "    index_list = []\n",
    "    if (SevenOClock.time()<=tStart<NineOClock.time()) \\\n",
    "    and (SevenOClock.time()<tEnd<=NineOClock.time()):\n",
    "        return 1\n",
    "    else:\n",
    "        return 0\n",
    "    \n",
    "cleanJan['weekday'] = tStart.dt.dayofweek\n",
    "# 1 for weekdays 0 for weekends\n",
    "cleanJan['isWeekday'] = [0 if x>4 else 1 for x in cleanJan['weekday']]\n",
    "    \n",
    "#check isPeak for all trips in the cleanJan Table\n",
    "cleanJan['isPeak'] = [ is_peak(tStart[i].time(), tEnd[i].time()) if (cleanJan['isWeekday'][i] ==1)\\\n",
    "                      else 0 for i in range(cleanJan['pickup_datetime'].count())]\n",
    "\n",
    "\n",
    "\n",
    "\n",
    "#calculate the percentage of peak trip with respect to the total trip\n",
    "percentageOfPeak = cleanJan['isPeak'].sum()/cleanJan['isPeak'].count();\n",
    "# print(cleanJan['isPeak'].sum())\n",
    "print(\"Question5\\n%% of peak hour trips=%.1f\\n***\"%(percentageOfPeak*100))"
   ]
  },
  {
   "cell_type": "markdown",
   "metadata": {
    "heading_collapsed": true
   },
   "source": [
    "## Question 6"
   ]
  },
  {
   "cell_type": "code",
   "execution_count": null,
   "metadata": {
    "ExecuteTime": {
     "end_time": "2018-03-25T02:19:56.987585Z",
     "start_time": "2018-03-25T02:19:56.506280Z"
    },
    "hidden": true
   },
   "outputs": [],
   "source": [
    "#Answer to 6\n",
    "# Add a new column day of month\n",
    "DateTime = pd.to_datetime(cleanJan['pickup_datetime'], format = '%d/%m/%y %H:%M')\n",
    "cleanJan['dayofmonth'] = [x.day for x in DateTime]\n",
    "\n",
    "#total number plot by dayofmonth(x axis) and day (y axis)\n",
    "bygroup = cleanJan.groupby('dayofmonth')\n",
    "picture = bygroup['dayofmonth'].count().plot(kind='bar')\n",
    "picture.set_ylabel(\"total number of trips\")\n",
    "picture.set_xlabel(\"dayofmonth\")\n",
    "plt.title('Question6: Number of trips started eachday in Jan 2016')\n",
    "plt.show()"
   ]
  },
  {
   "cell_type": "markdown",
   "metadata": {},
   "source": [
    "## Question 7"
   ]
  },
  {
   "cell_type": "code",
   "execution_count": null,
   "metadata": {
    "ExecuteTime": {
     "end_time": "2018-03-25T04:35:28.804025Z",
     "start_time": "2018-03-25T04:35:28.566864Z"
    }
   },
   "outputs": [],
   "source": [
    "#Answer to 7\n",
    "\n",
    "#evaluate the mean value for each featuer group by weekday\n",
    "tStart = pd.to_datetime(cleanJan['pickup_datetime'], format = \"%d/%m/%y %H:%M\")\n",
    "cleanJan['weekday'] = tStart.dt.dayofweek\n",
    "bygroup = cleanJan.groupby('weekday').mean()\n",
    "#Scatter plot \n",
    "# From Sunday to Saturday refelct to different color\n",
    "fig, ax = plt.subplots()\n",
    "label = ['Monday', 'Tuesday', 'Wednesday', 'Thursday', 'Friday', 'Saturday', 'Sunday']\n",
    "colorlist = ['blue','pink', 'red', 'black', 'yellow', 'purple', 'green']\n",
    "daylist = [6,0,1,2,3,4,5]\n",
    "\n",
    "for i in daylist:\n",
    "\n",
    "    x = bygroup['payment_amount'][i]\n",
    "    y = bygroup['trip_distance'][i]\n",
    "    l = label[i]\n",
    "\n",
    "    ax.scatter(x, y, label=l, s=50, linewidth=0.1, c=colorlist[i])\n",
    "\n",
    "ax.legend()\n",
    "plt.title('Question 7: \\nWeekday Trip Distance V.S Payment Amount')\n",
    "plt.show()"
   ]
  },
  {
   "cell_type": "markdown",
   "metadata": {},
   "source": [
    "## Question 8 "
   ]
  },
  {
   "cell_type": "code",
   "execution_count": null,
   "metadata": {
    "ExecuteTime": {
     "end_time": "2018-03-25T04:55:22.836708Z",
     "start_time": "2018-03-25T04:55:22.412555Z"
    }
   },
   "outputs": [],
   "source": [
    "#Answer to 8\n",
    "\n",
    "# @parameters: DF(DataFrame), colName(str)\n",
    "# return nomalised colName Field values\n",
    "def normalising(DF, colName):\n",
    "    max = DF[colName].max()\n",
    "    min = DF[colName].min()\n",
    "    new = [(x-min)/(max-min) for x in DF[colName]]\n",
    "    return new\n",
    "#  normalise into the range [0, 1]\n",
    "cleanJan['mean_trip_distance'] = normalising(cleanJan,'trip_distance')\n",
    "cleanJan['mean_passenger_count'] = normalising(cleanJan,'passenger_count' )\n",
    "cleanJan['mean_payment_amount'] = normalising(cleanJan,'payment_amount' )\n",
    "\n",
    "# The day indicates from 0: Monday : 0, ..., Sunday : 6\n",
    "tStart = pd.to_datetime(cleanJan['pickup_datetime'], format = \"%d/%m/%y %H:%M\")\n",
    "cleanJan['weekday'] = tStart.dt.dayofweek\n",
    "bygroupMean = cleanJan.groupby('weekday').mean()\n",
    "bygroupMean['isweekend'] = ['weekday', 'weekday', 'weekday', 'weekday', 'weekday', 'weekend', 'weekend']\n",
    "df = bygroupMean[['mean_trip_distance', 'mean_passenger_count', 'mean_payment_amount', 'isweekend']]\n",
    "\n",
    "# plot parallel coordinate with legend red-weekends blue-weekdays\n",
    "picture8 = parallel_coordinates(df, 'isweekend', color = ['red', 'blue'])\n",
    "plt.title(\"Question 8: \\nmean_trip distance\\n passenger count \\n payment amount\\n for weekdays and weekedns\" )\n",
    "plt.show()"
   ]
  },
  {
   "cell_type": "markdown",
   "metadata": {},
   "source": [
    "## Question 9 "
   ]
  },
  {
   "cell_type": "code",
   "execution_count": null,
   "metadata": {
    "ExecuteTime": {
     "end_time": "2018-03-25T04:44:13.680082Z",
     "start_time": "2018-03-25T04:44:11.171385Z"
    }
   },
   "outputs": [],
   "source": [
    "#Answer to 9\n",
    "\n",
    "#@Parameters: rawData(DataFrame), startCol(str), endCol(str)\n",
    "#@return trip duration in minutes\n",
    "def evaluate_duration(rawData,startCol, endCol):\n",
    "    tStart = pd.to_datetime(rawData[startCol], format = '%d/%m/%y %H:%M')\n",
    "    tEnd   = pd.to_datetime(rawData[endCol], format = '%d/%m/%y %H:%M')\n",
    "    return (tEnd - tStart).dt.total_seconds()/60\n",
    "\n",
    "\n",
    "# Calculate the mean duration for each day of week\n",
    "tStart = pd.to_datetime(cleanJan['pickup_datetime'], format = \"%d/%m/%y %H:%M\")\n",
    "cleanJan['weekday'] = tStart.dt.dayofweek\n",
    "cleanJan['Duration'] = evaluate_duration(cleanJan, 'pickup_datetime', 'dropoff_datetime')\n",
    "cleanJan['minutes_travelling'] = [cleanJan['Duration'][i]*\\\n",
    "                                 cleanJan['passenger_count'][i] for i in range(cleanJan['Duration'].count())]\n",
    "bygroup = cleanJan.groupby('weekday').mean()\n",
    "\n",
    "\n",
    "#Pie chart plot\n",
    "label = ['Monday', 'Tuesday', 'Wednesday', 'Thursday', 'Friday', 'Saturday', 'Sunday']\n",
    "picture9 = bygroup.plot.pie(y = 'minutes_travelling',figsize = (6,6), legend = False, labels = label,\\\n",
    "                            autopct = '%1.2f%%')\n",
    "plt.title(\"Question 9:\\n Mean minutes travelling\\n for each day of week\")\n",
    "plt.show()"
   ]
  },
  {
   "cell_type": "markdown",
   "metadata": {
    "heading_collapsed": true
   },
   "source": [
    "## Question 10 "
   ]
  },
  {
   "cell_type": "code",
   "execution_count": null,
   "metadata": {
    "hidden": true
   },
   "outputs": [],
   "source": [
    "#Answer to 10\n",
    "\n",
    "#@Parameters: dayTrips\n",
    "#@return max trips within 60mins of one day\n",
    "def count_60_max_trips(dayTrips):\n",
    "    # convert to datetime format\n",
    "    tStart = pd.to_datetime(dayTrips['pickup_datetime'], format = '%d/%m/%y %H:%M')\n",
    "    tEnd = pd.to_datetime(dayTrips['dropoff_datetime'], format = '%d/%m/%y %H:%M')\n",
    "    max_count = 0\n",
    "    # iterate with the correct index range \n",
    "    index_max_plus_one = dayTrips.index.max()+1\n",
    "    # initialize the oldTrip to none\n",
    "    oldStartTrip = None\n",
    "    # choose start trip one by one but skip the trip with same start time for efficiency\n",
    "    for j in range(dayTrips.index.min(), index_max_plus_one):\n",
    "        startTrip =  tStart[j]\n",
    "        if oldStartTrip == startTrip:\n",
    "            pass\n",
    "        else:\n",
    "            count = 0\n",
    "            # iterate trip after start trip one by one\n",
    "            for i in range(j, index_max_plus_one):\n",
    "                start   = tStart[i]\n",
    "                end   = tEnd[i]\n",
    "                # the trip should begin after start trip and end on the same day\n",
    "                if start >= startTrip and 0<=(start - startTrip).total_seconds()/60<=60:\n",
    "                    gap = (end - startTrip).total_seconds()/60\n",
    "                    # the gap between the trip and start trip should be within 60 mins\n",
    "                    if 0<=gap<60 and end.day == startTrip.day:\n",
    "                        count+=1\n",
    "                else:\n",
    "                    break\n",
    "            # update the maximun\n",
    "            if count > max_count:\n",
    "                  max_count = count\n",
    "        oldStartTrip = startTrip\n",
    "    return max_count\n",
    "\n",
    "\n",
    "\n",
    "#@Parameters: groupbyObject\n",
    "#@return 1 if weekday else 0 for weekends\n",
    "def is_weekday(groupbyObject):\n",
    "    index = groupbyObject.index.min()\n",
    "    day =  pd.to_datetime(groupbyObject['pickup_datetime'], format = '%d/%m/%y %H:%M')[index].dayofweek\n",
    "    return (0 if day>4 else 1)\n",
    "\n",
    "\n",
    "\n",
    "# Add a new column day of month\n",
    "tStart = pd.to_datetime(cleanJan['pickup_datetime'], format = '%d/%m/%y %H:%M')\n",
    "cleanJan['dayofmonth'] = [x.day for x in tStart]\n",
    "bygroup = cleanJan.groupby('dayofmonth')\n",
    "\n",
    "# initialize three main feature for ploting \n",
    "dayofmonth = []\n",
    "weekday = []\n",
    "max_trips_60min_day = []\n",
    "\n",
    "# update dayofmonth to get day\n",
    "for key,item in bygroup:\n",
    "    dayofmonth.append(key)\n",
    "    \n",
    "# iterate through every day    \n",
    "for i in range(1, 32):\n",
    "    max_trips_60min_day.append(count_60_max_trips(bygroup.get_group(i)))\n",
    "    weekday.append(is_weekday(bygroup.get_group(i)))\n",
    "\n",
    "\n",
    "    \n",
    "# Scatter plot\n",
    "# convert three main features into df\n",
    "DF_max_trips_60min_day = pd.DataFrame({'dayofmonth':dayofmonth, 'max_trips_60min_day': max_trips_60min_day, 'isweekday': weekday})\n",
    "weekdays = DF_max_trips_60min_day[DF_max_trips_60min_day['isweekday']==1]\n",
    "weekends = DF_max_trips_60min_day[DF_max_trips_60min_day['isweekday']==0]\n",
    "\n",
    "# plot weekdays and weekends max_trips_60min_day respectively\n",
    "ax = plt.scatter(weekdays['dayofmonth'], weekdays['max_trips_60min_day'], color = 'red', label = 'Weekdays')\n",
    "ax = plt.scatter(weekends['dayofmonth'], weekends['max_trips_60min_day'], color = 'blue', label = 'Weekends')\n",
    "\n",
    "# Add feature on plot\n",
    "plt.xlabel('dayofmonth')\n",
    "plt.ylabel('max_trips_60min_day')\n",
    "plt.title(\"Qusrtion 10: Max trip within 60 min day in Jan 2016\")\n",
    "plt.legend()\n",
    "plt.show()"
   ]
  },
  {
   "cell_type": "code",
   "execution_count": null,
   "metadata": {
    "hidden": true
   },
   "outputs": [],
   "source": []
  }
 ],
 "metadata": {
  "kernelspec": {
   "display_name": "Python 3",
   "language": "python",
   "name": "python3"
  },
  "language_info": {
   "codemirror_mode": {
    "name": "ipython",
    "version": 3
   },
   "file_extension": ".py",
   "mimetype": "text/x-python",
   "name": "python",
   "nbconvert_exporter": "python",
   "pygments_lexer": "ipython3",
   "version": "3.6.8"
  },
  "toc": {
   "base_numbering": 1,
   "nav_menu": {
    "height": "167px",
    "width": "160px"
   },
   "number_sections": false,
   "sideBar": true,
   "skip_h1_title": false,
   "title_cell": "Table of Contents",
   "title_sidebar": "Contents",
   "toc_cell": true,
   "toc_position": {},
   "toc_section_display": true,
   "toc_window_display": false
  }
 },
 "nbformat": 4,
 "nbformat_minor": 1
}
