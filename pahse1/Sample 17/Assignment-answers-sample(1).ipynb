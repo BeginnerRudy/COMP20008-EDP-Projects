{
 "cells": [
  {
   "cell_type": "markdown",
   "metadata": {
    "toc": true
   },
   "source": [
    "<h1>Table of Contents<span class=\"tocSkip\"></span></h1>\n",
    "<div class=\"toc\"><ul class=\"toc-item\"><li><span><a href=\"#Question-1-1\" data-toc-modified-id=\"Question-1-1-1\">Question 1-1</a></span></li><li><span><a href=\"#Question-1-2\" data-toc-modified-id=\"Question-1-2-2\">Question 1-2</a></span></li><li><span><a href=\"#Question-1-3\" data-toc-modified-id=\"Question-1-3-3\">Question 1-3</a></span></li><li><span><a href=\"#Question1-4\" data-toc-modified-id=\"Question1-4-4\">Question1-4</a></span></li><li><span><a href=\"#Question2-1\" data-toc-modified-id=\"Question2-1-5\">Question2-1</a></span></li><li><span><a href=\"#Question-2-2\" data-toc-modified-id=\"Question-2-2-6\">Question 2-2</a></span></li><li><span><a href=\"#Question-2-3\" data-toc-modified-id=\"Question-2-3-7\">Question 2-3</a></span></li></ul></div>"
   ]
  },
  {
   "cell_type": "code",
   "execution_count": 2,
   "metadata": {},
   "outputs": [],
   "source": [
    "% matplotlib inline\n",
    "import pandas as pd\n",
    "import matplotlib.pyplot as plt\n",
    "import datetime as dt"
   ]
  },
  {
   "cell_type": "code",
   "execution_count": 3,
   "metadata": {},
   "outputs": [],
   "source": [
    "def printOutput(output, question):\n",
    "    asterisk = 100\n",
    "    if question == '1-2':\n",
    "        stat    = output[0]\n",
    "        jan     = output[1]\n",
    "        june    = output[2]\n",
    "        adjustN = (asterisk - len(stat) - 2)//2\n",
    "        print ('%s %s %s' % ('*'*adjustN,stat,'*'*adjustN))\n",
    "        print ('%10s : %.2f' % ('January', jan))\n",
    "        print ('%10s : %.2f' % ('June', june))\n",
    "        print ('%s' % ('*'*asterisk))\n",
    "    elif question == '1-4':\n",
    "        name  = output[0]\n",
    "        lower = output[1]\n",
    "        upper = output[2]\n",
    "        ratio = output[3]\n",
    "        print ('%s' % ('*'*asterisk))\n",
    "        print ('%.2f%% of instances in %s are noisy! (normal range is between %.2f and %.2f)' % (ratio, name, lower, upper))\n",
    "        print ('%s' % ('*'*asterisk))       \n",
    "    elif question == '2-1':\n",
    "        ratio = output\n",
    "        print ('%s' % ('*'*asterisk))\n",
    "        print ('%% of weekend trips=%.2f' % (ratio))\n",
    "        print ('%s' % ('*'*asterisk)) \n",
    "        "
   ]
  },
  {
   "cell_type": "code",
   "execution_count": 4,
   "metadata": {},
   "outputs": [],
   "source": [
    "def FindDuration(rawData,startCol, endCol):\n",
    "    '''\n",
    "    (DataFrame, str, str) -> Series\n",
    "    '''\n",
    "    tStart = pd.to_datetime(rawData[startCol], format = '%d/%m/%y %H:%M')\n",
    "    tEnd   = pd.to_datetime(rawData[endCol], format = '%d/%m/%y %H:%M')\n",
    "    return (tEnd - tStart).dt.total_seconds()/60\n",
    "    \n",
    "    "
   ]
  },
  {
   "cell_type": "markdown",
   "metadata": {},
   "source": [
    "### Question 1-1"
   ]
  },
  {
   "cell_type": "code",
   "execution_count": 5,
   "metadata": {},
   "outputs": [],
   "source": [
    "# Reading the data into a DataFrame, finding the duration of each trip and creating a new DataFrame\n",
    "#  Jauary\n",
    "rawJan   = pd.read_csv('raw-january.csv',encoding = 'ISO-8859-1')\n",
    "rawJan['Duration'] = FindDuration(rawJan,'pickup_datetime','dropoff_datetime')\n",
    "dataJan  = rawJan[['Duration', 'trip_distance', 'passenger_count', 'payment_amount']].copy()\n",
    "\n",
    "# June\n",
    "rawJune  = pd.read_csv('raw-june.csv'\n",
    "                       ,encoding = 'ISO-8859-1')\n",
    "rawJune['Duration'] = FindDuration(rawJune,'pickup_datetime','dropoff_datetime')\n",
    "dataJune = rawJune[['Duration', 'trip_distance', 'passenger_count', 'payment_amount']].copy()\n"
   ]
  },
  {
   "cell_type": "markdown",
   "metadata": {},
   "source": [
    "### Question 1-2"
   ]
  },
  {
   "cell_type": "code",
   "execution_count": 6,
   "metadata": {},
   "outputs": [
    {
     "name": "stdout",
     "output_type": "stream",
     "text": [
      "****************************************** trip_distance ******************************************\n",
      "   January : 2.88\n",
      "      June : 3.05\n",
      "****************************************************************************************************\n",
      "***************************************** passenger_count *****************************************\n",
      "   January : 1.67\n",
      "      June : 1.66\n",
      "****************************************************************************************************\n",
      "********************************************* Duration *********************************************\n",
      "   January : 14.96\n",
      "      June : 17.00\n",
      "****************************************************************************************************\n"
     ]
    }
   ],
   "source": [
    "feaureSet = ['trip_distance', 'passenger_count', 'Duration']\n",
    "for feaure in feaureSet:\n",
    "    meanJan  = dataJan[feaure].mean()\n",
    "    meanJune = dataJune[feaure].mean()\n",
    "    printOutput([feaure,meanJan, meanJune], question = '1-2')"
   ]
  },
  {
   "cell_type": "markdown",
   "metadata": {},
   "source": [
    "### Question 1-3"
   ]
  },
  {
   "cell_type": "code",
   "execution_count": 7,
   "metadata": {},
   "outputs": [
    {
     "data": {
      "image/png": "[encoded data removed]",
      "text/plain": [
       "<matplotlib.figure.Figure at 0x20ed86f38d0>"
      ]
     },
     "metadata": {},
     "output_type": "display_data"
    },
    {
     "data": {
      "image/png": "[encoded data removed]",
      "text/plain": [
       "<matplotlib.figure.Figure at 0x20ed9dafe10>"
      ]
     },
     "metadata": {},
     "output_type": "display_data"
    },
    {
     "data": {
      "image/png": "[encoded data removed]",
      "text/plain": [
       "<matplotlib.figure.Figure at 0x20ed9db4ac8>"
      ]
     },
     "metadata": {},
     "output_type": "display_data"
    }
   ],
   "source": [
    "# Optional: before plotting the boxplots, you may remove the outliers  \n",
    "feaureSet = ['trip_distance', 'payment_amount', 'Duration']\n",
    "for feaure in feaureSet:\n",
    "    plt.clf()\n",
    "    concatInfo = pd.concat([dataJan[feaure], dataJune[feaure]], axis = 1, keys = ['Jan', 'June'])\n",
    "    concatInfo.boxplot()\n",
    "    plt.title(feaure)\n",
    "    plt.show()\n",
    "\n"
   ]
  },
  {
   "cell_type": "markdown",
   "metadata": {},
   "source": [
    "\n",
    "pd.concat() concatenates Dataframe objects and can be replaced by the following lines:\n",
    "\n",
    "concatInfo = pd.DataFrame() \n",
    "\n",
    "concatInfo['Jan']  = dataJan[c] \n",
    "\n",
    "concatInfo['June'] = dataJune[c]\n"
   ]
  },
  {
   "cell_type": "markdown",
   "metadata": {},
   "source": [
    "### Question1-4"
   ]
  },
  {
   "cell_type": "code",
   "execution_count": 8,
   "metadata": {},
   "outputs": [
    {
     "name": "stdout",
     "output_type": "stream",
     "text": [
      "****************************************************************************************************\n",
      "1.77% of instances in Duration are noisy! (normal range is between 1.00 and 50.00)\n",
      "****************************************************************************************************\n",
      "****************************************************************************************************\n",
      "6.09% of instances in trip_distance are noisy! (normal range is between 0.10 and 10.00)\n",
      "****************************************************************************************************\n",
      "****************************************************************************************************\n",
      "4.87% of instances in payment_amount are noisy! (normal range is between 2.00 and 44.00)\n",
      "****************************************************************************************************\n",
      "****************************************************************************************************\n",
      "3.41% of instances in passenger_count are noisy! (normal range is between 1.00 and 5.00)\n",
      "****************************************************************************************************\n"
     ]
    }
   ],
   "source": [
    "\n",
    "# The upperbound of the ranges are selected as q3+3*IQR (except for the number of passengers)\n",
    "# The lower bound of the ranges are selected intuitively\n",
    "\n",
    "# part 1 of the question\n",
    "normRange = {'Duration':[1,50], 'trip_distance':[0.1, 10.0], 'payment_amount':[2, 44.0],'passenger_count':[1,5] }\n",
    "feaureSet = ['Duration','trip_distance','payment_amount','passenger_count']\n",
    "records   = len(dataJan)\n",
    "\n",
    "for feature in feaureSet:\n",
    "    minR   = normRange[feature][0]\n",
    "    maxR   = normRange[feature][1]\n",
    "    fMean  = dataJan[feature].mean()\n",
    "    \n",
    "    # part 2 of the question\n",
    "    lower  = dataJan[dataJan[feature]<minR]\n",
    "    higher = dataJan[dataJan[feature]>maxR]\n",
    "    ratio  = 100*(len(lower)+len(higher))/records\n",
    "    printOutput([feature, minR, maxR, ratio], question='1-4')\n",
    "    \n",
    "    # part 3 of the question\n",
    "    dataJan.loc[lower.index, feature]  = fMean\n",
    "    dataJan.loc[higher.index, feature] = fMean\n"
   ]
  },
  {
   "cell_type": "markdown",
   "metadata": {},
   "source": [
    "### Question2-1"
   ]
  },
  {
   "cell_type": "code",
   "execution_count": 9,
   "metadata": {},
   "outputs": [
    {
     "name": "stdout",
     "output_type": "stream",
     "text": [
      "****************************************************************************************************\n",
      "% of weekend trips=29.09\n",
      "****************************************************************************************************\n"
     ]
    }
   ],
   "source": [
    "cleanJan = pd.read_csv('clean-january.csv',encoding = 'ISO-8859-1')\n",
    "tStart   = pd.to_datetime(cleanJan['pickup_datetime'], format = '%d/%m/%y %H:%M')\n",
    "\n",
    "#Alternatively, if using DatetimeIndex\n",
    "#fmt='%d/%m/%y %H:%M'\n",
    "#cleanJan['hour']=pd.DatetimeIndex(pd.to_datetime(cleanJan['pickup_datetime'],format=fmt)).hour\n",
    "#...\n",
    "\n",
    "cleanJan['weekday']   = tStart.dt.dayofweek  # dt.weekday would return the same value\n",
    "#  The day indices start from 0: Monday=0 ...Sunday=6\n",
    "cleanJan['isweekend'] = [1 if (x>4) else 0 for x in cleanJan['weekday']]\n",
    "total = cleanJan.shape[0]\n",
    "weekends=cleanJan.groupby('isweekend').size()[1]\n",
    "printOutput((weekends/total)*100, question = '2-1')\n"
   ]
  },
  {
   "cell_type": "markdown",
   "metadata": {},
   "source": [
    "### Question 2-2"
   ]
  },
  {
   "cell_type": "code",
   "execution_count": 9,
   "metadata": {},
   "outputs": [
    {
     "data": {
      "image/png": "[encoded data removed]",
      "text/plain": [
       "<matplotlib.figure.Figure at 0x2f0afecfef0>"
      ]
     },
     "metadata": {},
     "output_type": "display_data"
    },
    {
     "data": {
      "image/png": "[encoded data removed]",
      "text/plain": [
       "<matplotlib.figure.Figure at 0x2f0b1a5e4e0>"
      ]
     },
     "metadata": {},
     "output_type": "display_data"
    }
   ],
   "source": [
    "def PlotHist(data, title):\n",
    "    names   = ['[0-6)','[6,9)','[9,12)','[12,16)','[16,20)','[20,24)']\n",
    "    picture = data['hour'].hist(bins=[0,5.9,8.9,11.9,15.9,19.9,24])\n",
    "    picture.set_title(\"Volume of taxis during \" + title)\n",
    "    picture.set_xlabel(\"Time\")\n",
    "    picture.set_ylabel(\"Taxi Demand (number of trips)\")\n",
    "    picture.set_xticks([3,7.5,10.5,14,18,22])\n",
    "    picture.set_xticklabels(names,rotation=45)\n",
    "    picture.set_ylim([0,15000])\n",
    "    plt.show()\n",
    "\n",
    "cleanJan ['hour'] = tStart.dt.hour \n",
    "Weekend = cleanJan.loc[cleanJan['weekday']>4]\n",
    "Weekday = cleanJan.loc[cleanJan['weekday']<5]\n",
    "PlotHist(Weekend, 'Weekends')\n",
    "PlotHist(Weekday, 'Weekdays')\n"
   ]
  },
  {
   "cell_type": "markdown",
   "metadata": {
    "collapsed": true
   },
   "source": [
    "### Question 2-3"
   ]
  },
  {
   "cell_type": "code",
   "execution_count": 10,
   "metadata": {},
   "outputs": [
    {
     "data": {
      "image/png": "[encoded data removed]",
      "text/plain": [
       "<matplotlib.figure.Figure at 0x2f0adcfb128>"
      ]
     },
     "metadata": {},
     "output_type": "display_data"
    }
   ],
   "source": [
    "cleanJan['Duration'] = FindDuration(cleanJan,'pickup_datetime','dropoff_datetime')\n",
    "cleanJan['income_efficiency']= cleanJan['payment_amount']/cleanJan['Duration']\n",
    "\n",
    "#income plot by hour (x axis) and day (y axis)\n",
    "bygroup = cleanJan.groupby('hour')\n",
    "picture=bygroup['income_efficiency'].mean().plot(kind='bar')\n",
    "picture.set_ylabel(\"Income efficiency\")\n",
    "picture.set_xlabel(\"Hour of the Day\")\n",
    "plt.show()"
   ]
  },
  {
   "cell_type": "code",
   "execution_count": null,
   "metadata": {},
   "outputs": [],
   "source": []
  },
  {
   "cell_type": "code",
   "execution_count": null,
   "metadata": {},
   "outputs": [],
   "source": []
  },
  {
   "cell_type": "code",
   "execution_count": null,
   "metadata": {},
   "outputs": [],
   "source": []
  }
 ],
 "metadata": {
  "kernelspec": {
   "display_name": "Python 3",
   "language": "python",
   "name": "python3"
  },
  "language_info": {
   "codemirror_mode": {
    "name": "ipython",
    "version": 3
   },
   "file_extension": ".py",
   "mimetype": "text/x-python",
   "name": "python",
   "nbconvert_exporter": "python",
   "pygments_lexer": "ipython3",
   "version": "3.6.4"
  },
  "toc": {
   "nav_menu": {},
   "number_sections": false,
   "sideBar": true,
   "skip_h1_title": false,
   "title_cell": "Table of Contents",
   "title_sidebar": "Contents",
   "toc_cell": true,
   "toc_position": {},
   "toc_section_display": true,
   "toc_window_display": false
  }
 },
 "nbformat": 4,
 "nbformat_minor": 2
}
