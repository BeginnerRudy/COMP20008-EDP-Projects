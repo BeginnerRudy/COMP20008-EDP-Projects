{
 "cells": [
  {
   "cell_type": "code",
   "execution_count": 1,
   "metadata": {
    "ExecuteTime": {
     "end_time": "2018-04-23T12:50:03.467146Z",
     "start_time": "2018-04-23T12:50:03.460130Z"
    }
   },
   "outputs": [
    {
     "ename": "ModuleNotFoundError",
     "evalue": "No module named 'sklearn'",
     "output_type": "error",
     "traceback": [
      "\u001b[0;31m---------------------------------------------------------------------------\u001b[0m",
      "\u001b[0;31mModuleNotFoundError\u001b[0m                       Traceback (most recent call last)",
      "\u001b[0;32m<ipython-input-1-91355bbb72d4>\u001b[0m in \u001b[0;36m<module>\u001b[0;34m\u001b[0m\n\u001b[1;32m      4\u001b[0m \u001b[0;32mfrom\u001b[0m \u001b[0mpandas\u001b[0m\u001b[0;34m.\u001b[0m\u001b[0mplotting\u001b[0m \u001b[0;32mimport\u001b[0m \u001b[0mparallel_coordinates\u001b[0m\u001b[0;34m\u001b[0m\u001b[0;34m\u001b[0m\u001b[0m\n\u001b[1;32m      5\u001b[0m \u001b[0;32mimport\u001b[0m \u001b[0mnumpy\u001b[0m \u001b[0;32mas\u001b[0m \u001b[0mnp\u001b[0m\u001b[0;34m\u001b[0m\u001b[0;34m\u001b[0m\u001b[0m\n\u001b[0;32m----> 6\u001b[0;31m \u001b[0;32mimport\u001b[0m \u001b[0msklearn\u001b[0m\u001b[0;34m\u001b[0m\u001b[0;34m\u001b[0m\u001b[0m\n\u001b[0m\u001b[1;32m      7\u001b[0m \u001b[0;32mimport\u001b[0m \u001b[0mscipy\u001b[0m\u001b[0;34m.\u001b[0m\u001b[0mstats\u001b[0m \u001b[0;32mas\u001b[0m \u001b[0mstats\u001b[0m\u001b[0;34m\u001b[0m\u001b[0;34m\u001b[0m\u001b[0m\n\u001b[1;32m      8\u001b[0m \u001b[0;34m\u001b[0m\u001b[0m\n",
      "\u001b[0;31mModuleNotFoundError\u001b[0m: No module named 'sklearn'"
     ]
    }
   ],
   "source": [
    "import pandas as pd\n",
    "import matplotlib.pyplot as plt\n",
    "import datetime as dt\n",
    "from pandas.plotting import parallel_coordinates\n",
    "import numpy as np\n",
    "import sklearn \n",
    "import scipy.stats as stats\n",
    "\n",
    "Service_Barrier = pd.read_csv('Service_Barrier.csv',encoding = 'ISO-8859-1')\n",
    "Avoidable_Death = pd.read_csv('Avoidable_Death.csv',encoding = 'ISO-8859-1')\n",
    "Health_Risk_Factor = pd.read_csv('Health_Risk_Factor.csv',encoding = 'ISO-8859-1')\n",
    "Avoidable_Death.dropna()\n",
    "Health_Risk_Factor.dropna()\n",
    "\n",
    "#Health_Risk_Factor_RAC =    Health_Risk_Factor['RiskAlcoholConsumption_per100'] #Risk Alcohol Consumption\n",
    "#Health_Risk_Factor_High_Blood_Pressure =    Health_Risk_Factor['HighBloodPressure_pre100']\n",
    "Health_Risk_Factor_Fruit_Adequate_Intake =    Health_Risk_Factor['FruitAdequateIntake_per100']\n",
    "#Health_Risk_Factor_Overweight =    Health_Risk_Factor['Overweight_per100']\n",
    "Health_Risk_Factor_Low_Exercise =    Health_Risk_Factor['LowExercise_per100']\n",
    "Health_Risk_Factor_Psychological_Distress =    Health_Risk_Factor['PsychologicalDistress_per100']\n",
    "Health_Risk_Factor_Smoker =    Health_Risk_Factor['Somker_per100']\n",
    "Health_Risk_Factor_Obese =    Health_Risk_Factor[' obese_per100']\n",
    "Health_Risk_Factor_RiskWaistMearsurement =    Health_Risk_Factor['RiskWaistMearsurement_per100']\n",
    "\n",
    "\n",
    "Avoidable_Death_Cancer = Avoidable_Death['cancer_per100,000']\n",
    "Avoidable_Death_Diab = Avoidable_Death['diabetes_per100,000']\n",
    "Avoidable_Death_Colo = Avoidable_Death['colorectal_per100,000']\n",
    "Avoidable_Death_Pulm = Avoidable_Death['pulmonary _per100,000']\n",
    "Avoidable_Death_Cereb = Avoidable_Death['cerebrovascular _per100,000']\n",
    "Avoidable_Death_Total = Avoidable_Death_Cancer + Avoidable_Death_Diab + Avoidable_Death_Colo \\\n",
    "+ Avoidable_Death_Pulm + Avoidable_Death_Cereb\n",
    "\n",
    "Avoidable_Death['Avoidable_Death_Total'] = Avoidable_Death_Total\n",
    "Avoidable_Death = Avoidable_Death.dropna()\n",
    "\n",
    "Health_Risk_Factor = Health_Risk_Factor.dropna()\n",
    "print(Health_Risk_Factor.keys())"
   ]
  },
  {
   "cell_type": "markdown",
   "metadata": {},
   "source": [
    "## Outerlier Analysis"
   ]
  },
  {
   "cell_type": "code",
   "execution_count": null,
   "metadata": {
    "ExecuteTime": {
     "end_time": "2018-05-05T10:10:41.733669Z",
     "start_time": "2018-05-05T10:10:41.589198Z"
    }
   },
   "outputs": [],
   "source": [
    "Avoidable_Death_Total.plot(kind = 'box')\n",
    "plt.title(\"Outlier of Total Avoidable death\")\n",
    "plt.ylabel(\"Number of Avoidable Death\", fontsize = 14)"
   ]
  },
  {
   "cell_type": "code",
   "execution_count": null,
   "metadata": {
    "ExecuteTime": {
     "end_time": "2018-05-05T10:18:58.335394Z",
     "start_time": "2018-05-05T10:18:58.289770Z"
    }
   },
   "outputs": [],
   "source": [
    "Avoidable_Death.sort_values(['Avoidable_Death_Total'], ascending = False)"
   ]
  },
  {
   "cell_type": "markdown",
   "metadata": {
    "heading_collapsed": true
   },
   "source": [
    "## Avoid Death Total"
   ]
  },
  {
   "cell_type": "code",
   "execution_count": null,
   "metadata": {
    "ExecuteTime": {
     "end_time": "2018-05-05T09:54:40.756245Z",
     "start_time": "2018-05-05T09:54:40.579496Z"
    },
    "hidden": true
   },
   "outputs": [],
   "source": [
    "from scipy.stats import linregress\n",
    "def abline(slope, intercept):\n",
    "    \"\"\"Plot a line from slope and intercept\"\"\"\n",
    "    axes = plt.gca()\n",
    "    x_vals = np.array(axes.get_xlim())\n",
    "    y_vals = intercept + slope * x_vals\n",
    "    plt.plot(x_vals, y_vals, '-', color='black')\n",
    "\n",
    "\n",
    "\n",
    "df1 = pd.DataFrame({'Avoidable_Death_Total': Avoidable_Death_Total, \\\n",
    "                    'Health_Risk_Factor_Fruit_Adequate_Intake':  Health_Risk_Factor_Fruit_Adequate_Intake})\n",
    "plt.scatter(df1.iloc[:, 0], df1.iloc[:,1], color = 'r')\n",
    "df1 = df1.dropna()\n",
    "Info = linregress(df1.iloc[:, 0], df1.iloc[:,1])\n",
    "abline(Info[0], Info[1])\n",
    "plt.xlabel('Total avoidable death \\nper 100,000 population', fontsize=14)\n",
    "plt.ylabel('Number of People \\n Take Adequate Fruit\\n every day per 100 population', fontsize=14)\n",
    "plt.title(\"Avoidable_Death_Total VS Health_Risk_Factor_Fruit_Adequate_Intake\", color = 'w')\n",
    "print(\"Pearson r is \",df1.iloc[:, 0].corr(df1.iloc[:, 1]))"
   ]
  },
  {
   "cell_type": "code",
   "execution_count": null,
   "metadata": {
    "ExecuteTime": {
     "end_time": "2018-05-05T09:54:47.087463Z",
     "start_time": "2018-05-05T09:54:46.894449Z"
    },
    "hidden": true
   },
   "outputs": [],
   "source": [
    "from scipy.stats import linregress\n",
    "def abline(slope, intercept):\n",
    "    \"\"\"Plot a line from slope and intercept\"\"\"\n",
    "    axes = plt.gca()\n",
    "    x_vals = np.array(axes.get_xlim())\n",
    "    y_vals = intercept + slope * x_vals\n",
    "    plt.plot(x_vals, y_vals, '-', color='black')\n",
    "\n",
    "\n",
    "df1 = pd.DataFrame({'Avoidable_Death_Total': Avoidable_Death_Total, \\\n",
    "                    'Health_Risk_Factor_Obese': Health_Risk_Factor_Obese})\n",
    "\n",
    "plt.scatter(df1.iloc[:, 0], df1.iloc[:,1], color = 'r')\n",
    "df1 = df1.dropna()\n",
    "Info = linregress(df1.iloc[:, 0], df1.iloc[:,1])\n",
    "abline(Info[0], Info[1])\n",
    "plt.xlabel('Total avoidable death \\n per 100,000 population', fontsize=14)\n",
    "plt.ylabel('Number of Obese people\\n per 100 population', fontsize=14)\n",
    "plt.title(\"Avoidable_Death_Total VS Health_Risk_Factor_Obese\", color = 'w')\n",
    "print(\"Pearson r is \",df1.iloc[:, 0].corr(df1.iloc[:, 1]))"
   ]
  },
  {
   "cell_type": "code",
   "execution_count": null,
   "metadata": {
    "ExecuteTime": {
     "end_time": "2018-05-05T09:54:58.154950Z",
     "start_time": "2018-05-05T09:54:57.946396Z"
    },
    "hidden": true
   },
   "outputs": [],
   "source": [
    "from scipy.stats import linregress\n",
    "def abline(slope, intercept):\n",
    "    \"\"\"Plot a line from slope and intercept\"\"\"\n",
    "    axes = plt.gca()\n",
    "    x_vals = np.array(axes.get_xlim())\n",
    "    y_vals = intercept + slope * x_vals\n",
    "    plt.plot(x_vals, y_vals, '-', color='black')\n",
    "\n",
    "\n",
    "\n",
    "df1 = pd.DataFrame({'Avoidable_Death_Total': Avoidable_Death_Total, \\\n",
    "                    'Health_Risk_Factor_RiskWaistMearsurement': Health_Risk_Factor_RiskWaistMearsurement})\n",
    "\n",
    "plt.scatter(df1.iloc[:, 0], df1.iloc[:,1], color = 'r')\n",
    "df1 = df1.dropna()\n",
    "Info = linregress(df1.iloc[:, 0], df1.iloc[:,1])\n",
    "abline(Info[0], Info[1])\n",
    "plt.xlabel('Total avoidable death \\n per 100,000 population', fontsize=14)\n",
    "plt.ylabel('Number of people of \\n risky waist measurement\\n per 100 population', fontsize=14)\n",
    "plt.title(\"Avoidable_Death_Total VS Health_Risk_Factor_RiskWaistMearsurement\", color = 'w')\n",
    "print(\"Pearson r is \",df1.iloc[:, 0].corr(df1.iloc[:, 1]))"
   ]
  },
  {
   "cell_type": "code",
   "execution_count": null,
   "metadata": {
    "ExecuteTime": {
     "end_time": "2018-04-23T12:39:58.019847Z",
     "start_time": "2018-04-23T12:39:57.819323Z"
    },
    "hidden": true
   },
   "outputs": [],
   "source": [
    "from scipy.stats import linregress\n",
    "def abline(slope, intercept):\n",
    "    \"\"\"Plot a line from slope and intercept\"\"\"\n",
    "    axes = plt.gca()\n",
    "    x_vals = np.array(axes.get_xlim())\n",
    "    y_vals = intercept + slope * x_vals\n",
    "    plt.plot(x_vals, y_vals, '-', color='black')\n",
    "\n",
    "\n",
    "\n",
    "df1 = pd.DataFrame({'Avoidable_Death_Total': Avoidable_Death_Total, \\\n",
    "                    'Health_Risk_Factor_Low_Exercise': Health_Risk_Factor_Low_Exercise})\n",
    "\n",
    "plt.scatter(df1.iloc[:, 0], df1.iloc[:,1], color = 'r')\n",
    "df1 = df1.dropna()\n",
    "Info = linregress(df1.iloc[:, 0], df1.iloc[:,1])\n",
    "abline(Info[0], Info[1])\n",
    "plt.title(\"Avoidable_Death_Total VS Health_Risk_Factor_Low_Exercise\", color = 'w')\n",
    "print(\"Pearson r is \",df1.iloc[:, 0].corr(df1.iloc[:, 1]))"
   ]
  },
  {
   "cell_type": "code",
   "execution_count": null,
   "metadata": {
    "ExecuteTime": {
     "end_time": "2018-04-23T12:40:11.760462Z",
     "start_time": "2018-04-23T12:40:11.575466Z"
    },
    "hidden": true,
    "scrolled": true
   },
   "outputs": [],
   "source": [
    "from scipy.stats import linregress\n",
    "def abline(slope, intercept):\n",
    "    \"\"\"Plot a line from slope and intercept\"\"\"\n",
    "    axes = plt.gca()\n",
    "    x_vals = np.array(axes.get_xlim())\n",
    "    y_vals = intercept + slope * x_vals\n",
    "    plt.plot(x_vals, y_vals, '-', color='black')\n",
    "\n",
    "\n",
    "\n",
    "df1 = pd.DataFrame({'Avoidable_Death_Total': Avoidable_Death_Total, \\\n",
    "                    'Health_Risk_Factor_Psychological_Distress': Health_Risk_Factor_Psychological_Distress})\n",
    "\n",
    "plt.scatter(df1.iloc[:, 0], df1.iloc[:,1], color = 'r')\n",
    "df1 = df1.dropna()\n",
    "Info = linregress(df1.iloc[:, 0], df1.iloc[:,1])\n",
    "abline(Info[0], Info[1])\n",
    "plt.title(\"Avoidable_Death_Total VS Health_Risk_Factor_Psychological_Distress\", color = 'w')\n",
    "print(\"Pearson r is \",df1.iloc[:, 0].corr(df1.iloc[:, 1]))"
   ]
  },
  {
   "cell_type": "code",
   "execution_count": null,
   "metadata": {
    "ExecuteTime": {
     "end_time": "2018-05-05T09:56:07.718282Z",
     "start_time": "2018-05-05T09:56:07.531786Z"
    },
    "hidden": true
   },
   "outputs": [],
   "source": [
    "from scipy.stats import linregress\n",
    "def abline(slope, intercept):\n",
    "    \"\"\"Plot a line from slope and intercept\"\"\"\n",
    "    axes = plt.gca()\n",
    "    x_vals = np.array(axes.get_xlim())\n",
    "    y_vals = intercept + slope * x_vals\n",
    "    plt.plot(x_vals, y_vals, '-', color='black')\n",
    "\n",
    "\n",
    "\n",
    "df1 = pd.DataFrame({'Avoidable_Death_Total': Avoidable_Death_Total, \\\n",
    "                    'Health_Risk_Factor_Smoker':  Health_Risk_Factor_Smoker})\n",
    "\n",
    "plt.scatter(df1.iloc[:, 0], df1.iloc[:,1], color = 'r')\n",
    "df1 = df1.dropna()\n",
    "Info = linregress(df1.iloc[:, 0], df1.iloc[:,1])\n",
    "abline(Info[0], Info[1])\n",
    "plt.xlabel('Total avoidable death \\n per 100,000 population', fontsize=14)\n",
    "plt.ylabel('Number of \\n excessive smoker\\n per 100 population', fontsize=14)\n",
    "plt.title(\"Avoidable_Death_Total VS Health_Risk_Factor_Smoker\", color = 'w')\n",
    "print(\"Pearson r is \",df1.iloc[:, 0].corr(df1.iloc[:, 1]))"
   ]
  },
  {
   "cell_type": "code",
   "execution_count": null,
   "metadata": {
    "hidden": true
   },
   "outputs": [],
   "source": []
  },
  {
   "cell_type": "markdown",
   "metadata": {
    "heading_collapsed": true
   },
   "source": [
    "## Avoid Death Cancer "
   ]
  },
  {
   "cell_type": "code",
   "execution_count": null,
   "metadata": {
    "ExecuteTime": {
     "end_time": "2018-04-23T03:58:51.795980Z",
     "start_time": "2018-04-23T03:58:50.234824Z"
    },
    "hidden": true
   },
   "outputs": [],
   "source": [
    "from sklearn.metrics import mutual_info_score\n",
    "from sklearn.metrics import normalized_mutual_info_score\n",
    "\n",
    "result = mutual_info_score(df1.iloc[:, 0], df1.iloc[:, 1])\n",
    "\n",
    "result1 = normalized_mutual_info_score(df1.iloc[:, 0], df1.iloc[:, 1])\n",
    "\n",
    "print(\"Mutual Infomation is\", result)\n",
    "print(\"Normalized Mutual Information is\", result1)"
   ]
  },
  {
   "cell_type": "code",
   "execution_count": null,
   "metadata": {
    "ExecuteTime": {
     "end_time": "2018-04-23T11:59:55.710021Z",
     "start_time": "2018-04-23T11:59:55.542482Z"
    },
    "hidden": true
   },
   "outputs": [],
   "source": [
    "from scipy.stats import linregress\n",
    "def abline(slope, intercept):\n",
    "    \"\"\"Plot a line from slope and intercept\"\"\"\n",
    "    axes = plt.gca()\n",
    "    x_vals = np.array(axes.get_xlim())\n",
    "    y_vals = intercept + slope * x_vals\n",
    "    plt.plot(x_vals, y_vals, '-', color='black')\n",
    "\n",
    "\n",
    "plt.scatter(Avoidable_Death_Cancer, Health_Risk_Factor_Fruit_Adequate_Intake, color = 'r')\n",
    "df1 = pd.DataFrame({'Avoidable_Death_Cancer': Avoidable_Death_Cancer,\\\n",
    "                    'Health_Risk_Factor_Fruit_Adequate_Intake':Health_Risk_Factor_Fruit_Adequate_Intake})\n",
    "\n",
    "df1 = df1.dropna()\n",
    "Info = linregress(df1.iloc[:, 0], df1.iloc[:,1])\n",
    "abline(Info[0], Info[1])\n",
    "print(\"Pearson r is \",df1.iloc[:, 0].corr(df1.iloc[:, 1]))"
   ]
  },
  {
   "cell_type": "code",
   "execution_count": null,
   "metadata": {
    "ExecuteTime": {
     "end_time": "2018-04-23T12:02:22.346646Z",
     "start_time": "2018-04-23T12:02:22.171651Z"
    },
    "hidden": true
   },
   "outputs": [],
   "source": [
    "from scipy.stats import linregress\n",
    "def abline(slope, intercept):\n",
    "    \"\"\"Plot a line from slope and intercept\"\"\"\n",
    "    axes = plt.gca()\n",
    "    x_vals = np.array(axes.get_xlim())\n",
    "    y_vals = intercept + slope * x_vals\n",
    "    plt.plot(x_vals, y_vals, '-', color='black')\n",
    "\n",
    "\n",
    "plt.scatter(Avoidable_Death_Cancer, Health_Risk_Factor_Psychological_Distress, color = 'r')\n",
    "df1 = pd.DataFrame({'Avoidable_Death_Cancer': Avoidable_Death_Cancer,\\\n",
    "                    'Health_Risk_Factor_Psychological_Distress':Health_Risk_Factor_Psychological_Distress})\n",
    "\n",
    "df1 = df1.dropna()\n",
    "Info = linregress(df1.iloc[:, 0], df1.iloc[:,1])\n",
    "abline(Info[0], Info[1])\n",
    "print(\"Pearson r is \",df1.iloc[:, 0].corr(df1.iloc[:, 1]))"
   ]
  },
  {
   "cell_type": "code",
   "execution_count": null,
   "metadata": {
    "ExecuteTime": {
     "end_time": "2018-04-23T12:04:25.627815Z",
     "start_time": "2018-04-23T12:04:25.452842Z"
    },
    "hidden": true
   },
   "outputs": [],
   "source": [
    "from scipy.stats import linregress\n",
    "def abline(slope, intercept):\n",
    "    \"\"\"Plot a line from slope and intercept\"\"\"\n",
    "    axes = plt.gca()\n",
    "    x_vals = np.array(axes.get_xlim())\n",
    "    y_vals = intercept + slope * x_vals\n",
    "    plt.plot(x_vals, y_vals, '-', color='black')\n",
    "\n",
    "\n",
    "plt.scatter(Avoidable_Death_Cancer, Health_Risk_Factor_Smoker, color = 'r')\n",
    "df1 = pd.DataFrame({'Avoidable_Death_Cancer': Avoidable_Death_Cancer,\\\n",
    "                    'Health_Risk_Factor_Smoker':Health_Risk_Factor_Smoker})\n",
    "\n",
    "df1 = df1.dropna()\n",
    "Info = linregress(df1.iloc[:, 0], df1.iloc[:,1])\n",
    "abline(Info[0], Info[1])\n",
    "print(\"Pearson r is \",df1.iloc[:, 0].corr(df1.iloc[:, 1]))"
   ]
  },
  {
   "cell_type": "markdown",
   "metadata": {
    "heading_collapsed": true
   },
   "source": [
    "##  Avoidable_Death_Diab"
   ]
  },
  {
   "cell_type": "code",
   "execution_count": null,
   "metadata": {
    "ExecuteTime": {
     "end_time": "2018-04-23T12:09:22.438526Z",
     "start_time": "2018-04-23T12:09:22.277097Z"
    },
    "hidden": true
   },
   "outputs": [],
   "source": [
    "from scipy.stats import linregress\n",
    "def abline(slope, intercept):\n",
    "    \"\"\"Plot a line from slope and intercept\"\"\"\n",
    "    axes = plt.gca()\n",
    "    x_vals = np.array(axes.get_xlim())\n",
    "    y_vals = intercept + slope * x_vals\n",
    "    plt.plot(x_vals, y_vals, '-', color='black')\n",
    "\n",
    "\n",
    "plt.scatter(Avoidable_Death_Diab, Health_Risk_Factor_Fruit_Adequate_Intake, color = 'r')\n",
    "df1 = pd.DataFrame({'Avoidable_Death_Diab': Avoidable_Death_Diab,\\\n",
    "                    'Health_Risk_Factor_Fruit_Adequate_Intake':Health_Risk_Factor_Fruit_Adequate_Intake})\n",
    "\n",
    "df1 = df1.dropna()\n",
    "Info = linregress(df1.iloc[:, 0], df1.iloc[:,1])\n",
    "abline(Info[0], Info[1])\n",
    "print(\"Pearson r is \",df1.iloc[:, 0].corr(df1.iloc[:, 1]))"
   ]
  },
  {
   "cell_type": "code",
   "execution_count": null,
   "metadata": {
    "ExecuteTime": {
     "end_time": "2018-04-23T12:11:08.842880Z",
     "start_time": "2018-04-23T12:11:08.679449Z"
    },
    "hidden": true
   },
   "outputs": [],
   "source": [
    "from scipy.stats import linregress\n",
    "def abline(slope, intercept):\n",
    "    \"\"\"Plot a line from slope and intercept\"\"\"\n",
    "    axes = plt.gca()\n",
    "    x_vals = np.array(axes.get_xlim())\n",
    "    y_vals = intercept + slope * x_vals\n",
    "    plt.plot(x_vals, y_vals, '-', color='black')\n",
    "\n",
    "\n",
    "plt.scatter(Avoidable_Death_Diab, Health_Risk_Factor_Low_Exercise, color = 'r')\n",
    "df1 = pd.DataFrame({'Avoidable_Death_Diab': Avoidable_Death_Diab,\\\n",
    "                    'Health_Risk_Factor_Low_Exercise': Health_Risk_Factor_Low_Exercise})\n",
    "\n",
    "df1 = df1.dropna()\n",
    "Info = linregress(df1.iloc[:, 0], df1.iloc[:,1])\n",
    "abline(Info[0], Info[1])\n",
    "print(\"Pearson r is \",df1.iloc[:, 0].corr(df1.iloc[:, 1]))"
   ]
  },
  {
   "cell_type": "code",
   "execution_count": null,
   "metadata": {
    "ExecuteTime": {
     "end_time": "2018-04-23T12:11:32.147867Z",
     "start_time": "2018-04-23T12:11:31.910245Z"
    },
    "hidden": true
   },
   "outputs": [],
   "source": [
    "from scipy.stats import linregress\n",
    "def abline(slope, intercept):\n",
    "    \"\"\"Plot a line from slope and intercept\"\"\"\n",
    "    axes = plt.gca()\n",
    "    x_vals = np.array(axes.get_xlim())\n",
    "    y_vals = intercept + slope * x_vals\n",
    "    plt.plot(x_vals, y_vals, '-', color='black')\n",
    "\n",
    "\n",
    "plt.scatter(Avoidable_Death_Diab, Health_Risk_Factor_Psychological_Distress, color = 'r')\n",
    "df1 = pd.DataFrame({'Avoidable_Death_Diab': Avoidable_Death_Diab,\\\n",
    "                    'Health_Risk_Factor_Psychological_Distress': Health_Risk_Factor_Psychological_Distress})\n",
    "\n",
    "df1 = df1.dropna()\n",
    "Info = linregress(df1.iloc[:, 0], df1.iloc[:,1])\n",
    "abline(Info[0], Info[1])\n",
    "print(\"Pearson r is \",df1.iloc[:, 0].corr(df1.iloc[:, 1]))"
   ]
  },
  {
   "cell_type": "code",
   "execution_count": null,
   "metadata": {
    "ExecuteTime": {
     "end_time": "2018-04-23T12:12:27.878095Z",
     "start_time": "2018-04-23T12:12:27.743738Z"
    },
    "hidden": true
   },
   "outputs": [],
   "source": [
    "from scipy.stats import linregress\n",
    "def abline(slope, intercept):\n",
    "    \"\"\"Plot a line from slope and intercept\"\"\"\n",
    "    axes = plt.gca()\n",
    "    x_vals = np.array(axes.get_xlim())\n",
    "    y_vals = intercept + slope * x_vals\n",
    "    plt.plot(x_vals, y_vals, '-', color='black')\n",
    "\n",
    "\n",
    "plt.scatter(Avoidable_Death_Diab, Health_Risk_Factor_Smoker, color = 'r')\n",
    "df1 = pd.DataFrame({'Avoidable_Death_Diab': Avoidable_Death_Diab,\\\n",
    "                    'Health_Risk_Factor_Smoker': Health_Risk_Factor_Smoker})\n",
    "\n",
    "df1 = df1.dropna()\n",
    "Info = linregress(df1.iloc[:, 0], df1.iloc[:,1])\n",
    "abline(Info[0], Info[1])\n",
    "print(\"Pearson r is \",df1.iloc[:, 0].corr(df1.iloc[:, 1]))"
   ]
  },
  {
   "cell_type": "code",
   "execution_count": null,
   "metadata": {
    "hidden": true
   },
   "outputs": [],
   "source": []
  }
 ],
 "metadata": {
  "kernelspec": {
   "display_name": "Python 3",
   "language": "python",
   "name": "python3"
  },
  "language_info": {
   "codemirror_mode": {
    "name": "ipython",
    "version": 3
   },
   "file_extension": ".py",
   "mimetype": "text/x-python",
   "name": "python",
   "nbconvert_exporter": "python",
   "pygments_lexer": "ipython3",
   "version": "3.6.8"
  },
  "toc": {
   "base_numbering": 1,
   "nav_menu": {},
   "number_sections": true,
   "sideBar": true,
   "skip_h1_title": false,
   "title_cell": "Table of Contents",
   "title_sidebar": "Contents",
   "toc_cell": false,
   "toc_position": {},
   "toc_section_display": true,
   "toc_window_display": false
  }
 },
 "nbformat": 4,
 "nbformat_minor": 2
}
