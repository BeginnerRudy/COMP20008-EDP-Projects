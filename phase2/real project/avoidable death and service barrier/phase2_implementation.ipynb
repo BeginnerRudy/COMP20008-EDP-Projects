{
 "cells": [
  {
   "cell_type": "code",
   "execution_count": 166,
   "metadata": {
    "ExecuteTime": {
     "end_time": "2018-04-23T12:50:03.467146Z",
     "start_time": "2018-04-23T12:50:03.460130Z"
    }
   },
   "outputs": [
    {
     "name": "stdout",
     "output_type": "stream",
     "text": [
      "Index([' lga_code', ' lga_name', 'RiskAlcoholConsumption_per100',\n",
      "       ' obese_per100', 'FruitAdequateIntake_per100',\n",
      "       'RiskWaistMearsurement_per100', 'LowExercise_per100',\n",
      "       'PsychologicalDistress_per100', 'Somker_per100'],\n",
      "      dtype='object')\n"
     ]
    }
   ],
   "source": [
    "import pandas as pd\n",
    "import matplotlib.pyplot as plt\n",
    "import datetime as dt\n",
    "from pandas.plotting import parallel_coordinates\n",
    "import numpy as np\n",
    "import sklearn \n",
    "import scipy.stats as stats\n",
    "\n",
    "Service_Barrier = pd.read_csv('Service_Barrier.csv',encoding = 'ISO-8859-1')\n",
    "Avoidable_Death = pd.read_csv('Avoidable_Death.csv',encoding = 'ISO-8859-1')\n",
    "Health_Risk_Factor = pd.read_csv('Health_Risk_Factor.csv',encoding = 'ISO-8859-1')\n",
    "Avoidable_Death.dropna()\n",
    "Health_Risk_Factor.dropna()\n",
    "\n",
    "#Health_Risk_Factor_RAC =    Health_Risk_Factor['RiskAlcoholConsumption_per100'] #Risk Alcohol Consumption\n",
    "#Health_Risk_Factor_High_Blood_Pressure =    Health_Risk_Factor['HighBloodPressure_pre100']\n",
    "Health_Risk_Factor_Fruit_Adequate_Intake =    Health_Risk_Factor['FruitAdequateIntake_per100']\n",
    "#Health_Risk_Factor_Overweight =    Health_Risk_Factor['Overweight_per100']\n",
    "Health_Risk_Factor_Low_Exercise =    Health_Risk_Factor['LowExercise_per100']\n",
    "Health_Risk_Factor_Psychological_Distress =    Health_Risk_Factor['PsychologicalDistress_per100']\n",
    "Health_Risk_Factor_Smoker =    Health_Risk_Factor['Somker_per100']\n",
    "Health_Risk_Factor_Obese =    Health_Risk_Factor[' obese_per100']\n",
    "Health_Risk_Factor_RiskWaistMearsurement =    Health_Risk_Factor['RiskWaistMearsurement_per100']\n",
    "\n",
    "\n",
    "Avoidable_Death_Cancer = Avoidable_Death['cancer_per100,000']\n",
    "Avoidable_Death_Diab = Avoidable_Death['diabetes_per100,000']\n",
    "Avoidable_Death_Colo = Avoidable_Death['colorectal_per100,000']\n",
    "Avoidable_Death_Pulm = Avoidable_Death['pulmonary _per100,000']\n",
    "Avoidable_Death_Cereb = Avoidable_Death['cerebrovascular _per100,000']\n",
    "Avoidable_Death_Total = Avoidable_Death_Cancer + Avoidable_Death_Diab + Avoidable_Death_Colo \\\n",
    "+ Avoidable_Death_Pulm + Avoidable_Death_Cereb\n",
    "\n",
    "Avoidable_Death['Avoidable_Death_Total'] = Avoidable_Death_Total\n",
    "Avoidable_Death = Avoidable_Death.dropna()\n",
    "\n",
    "Health_Risk_Factor = Health_Risk_Factor.dropna()\n",
    "print(Health_Risk_Factor.keys())"
   ]
  },
  {
   "cell_type": "markdown",
   "metadata": {},
   "source": [
    "## Outerlier Analysis"
   ]
  },
  {
   "cell_type": "code",
   "execution_count": 45,
   "metadata": {
    "ExecuteTime": {
     "end_time": "2018-05-05T10:10:41.733669Z",
     "start_time": "2018-05-05T10:10:41.589198Z"
    }
   },
   "outputs": [
    {
     "data": {
      "text/plain": [
       "Text(0,0.5,'Number of Avoidable Death')"
      ]
     },
     "execution_count": 45,
     "metadata": {},
     "output_type": "execute_result"
    },
    {
     "data": {
      "image/png": "[encoded data removed]",
      "text/plain": [
       "<Figure size 432x288 with 1 Axes>"
      ]
     },
     "metadata": {},
     "output_type": "display_data"
    }
   ],
   "source": [
    "Avoidable_Death_Total.plot(kind = 'box')\n",
    "plt.title(\"Outlier of Total Avoidable death\")\n",
    "plt.ylabel(\"Number of Avoidable Death\", fontsize = 14)"
   ]
  },
  {
   "cell_type": "code",
   "execution_count": 64,
   "metadata": {
    "ExecuteTime": {
     "end_time": "2018-05-05T10:18:58.335394Z",
     "start_time": "2018-05-05T10:18:58.289770Z"
    }
   },
   "outputs": [
    {
     "data": {
      "text/html": [
       "<div>\n",
       "<style scoped>\n",
       "    .dataframe tbody tr th:only-of-type {\n",
       "        vertical-align: middle;\n",
       "    }\n",
       "\n",
       "    .dataframe tbody tr th {\n",
       "        vertical-align: top;\n",
       "    }\n",
       "\n",
       "    .dataframe thead th {\n",
       "        text-align: right;\n",
       "    }\n",
       "</style>\n",
       "<table border=\"1\" class=\"dataframe\">\n",
       "  <thead>\n",
       "    <tr style=\"text-align: right;\">\n",
       "      <th></th>\n",
       "      <th>lga_code</th>\n",
       "      <th>lga_name</th>\n",
       "      <th>diabetes_per100,000</th>\n",
       "      <th>cancer_per100,000</th>\n",
       "      <th>colorectal_per100,000</th>\n",
       "      <th>pulmonary _per100,000</th>\n",
       "      <th>cerebrovascular _per100,000</th>\n",
       "      <th>Avoidable_Death_Total</th>\n",
       "    </tr>\n",
       "  </thead>\n",
       "  <tbody>\n",
       "    <tr>\n",
       "      <th>57</th>\n",
       "      <td>25810</td>\n",
       "      <td>Northern Grampians (S)</td>\n",
       "      <td>11.9</td>\n",
       "      <td>53.9</td>\n",
       "      <td>13.3</td>\n",
       "      <td>16.5</td>\n",
       "      <td>13.3</td>\n",
       "      <td>108.9</td>\n",
       "    </tr>\n",
       "    <tr>\n",
       "      <th>14</th>\n",
       "      <td>21670</td>\n",
       "      <td>Central Goldfields (S)</td>\n",
       "      <td>14.1</td>\n",
       "      <td>40.4</td>\n",
       "      <td>13.3</td>\n",
       "      <td>13.0</td>\n",
       "      <td>10.9</td>\n",
       "      <td>91.7</td>\n",
       "    </tr>\n",
       "    <tr>\n",
       "      <th>1</th>\n",
       "      <td>20260</td>\n",
       "      <td>Ararat (RC)</td>\n",
       "      <td>13.0</td>\n",
       "      <td>34.6</td>\n",
       "      <td>13.2</td>\n",
       "      <td>12.5</td>\n",
       "      <td>15.8</td>\n",
       "      <td>89.1</td>\n",
       "    </tr>\n",
       "    <tr>\n",
       "      <th>70</th>\n",
       "      <td>26810</td>\n",
       "      <td>Wellington (S)</td>\n",
       "      <td>5.9</td>\n",
       "      <td>40.0</td>\n",
       "      <td>10.9</td>\n",
       "      <td>9.0</td>\n",
       "      <td>13.1</td>\n",
       "      <td>78.9</td>\n",
       "    </tr>\n",
       "    <tr>\n",
       "      <th>7</th>\n",
       "      <td>21010</td>\n",
       "      <td>Benalla (RC)</td>\n",
       "      <td>10.3</td>\n",
       "      <td>37.5</td>\n",
       "      <td>9.2</td>\n",
       "      <td>6.6</td>\n",
       "      <td>11.5</td>\n",
       "      <td>75.1</td>\n",
       "    </tr>\n",
       "    <tr>\n",
       "      <th>28</th>\n",
       "      <td>22910</td>\n",
       "      <td>Hepburn (S)</td>\n",
       "      <td>5.6</td>\n",
       "      <td>35.1</td>\n",
       "      <td>14.4</td>\n",
       "      <td>10.6</td>\n",
       "      <td>9.2</td>\n",
       "      <td>74.9</td>\n",
       "    </tr>\n",
       "    <tr>\n",
       "      <th>2</th>\n",
       "      <td>20570</td>\n",
       "      <td>Ballarat (C)</td>\n",
       "      <td>5.1</td>\n",
       "      <td>34.9</td>\n",
       "      <td>12.8</td>\n",
       "      <td>12.0</td>\n",
       "      <td>9.8</td>\n",
       "      <td>74.6</td>\n",
       "    </tr>\n",
       "    <tr>\n",
       "      <th>19</th>\n",
       "      <td>22170</td>\n",
       "      <td>Frankston (C)</td>\n",
       "      <td>6.7</td>\n",
       "      <td>33.9</td>\n",
       "      <td>12.4</td>\n",
       "      <td>12.7</td>\n",
       "      <td>7.3</td>\n",
       "      <td>73.0</td>\n",
       "    </tr>\n",
       "    <tr>\n",
       "      <th>31</th>\n",
       "      <td>23190</td>\n",
       "      <td>Horsham (RC)</td>\n",
       "      <td>10.9</td>\n",
       "      <td>29.0</td>\n",
       "      <td>10.9</td>\n",
       "      <td>6.8</td>\n",
       "      <td>14.8</td>\n",
       "      <td>72.4</td>\n",
       "    </tr>\n",
       "    <tr>\n",
       "      <th>69</th>\n",
       "      <td>26730</td>\n",
       "      <td>Warrnambool (C)</td>\n",
       "      <td>8.0</td>\n",
       "      <td>32.6</td>\n",
       "      <td>9.4</td>\n",
       "      <td>9.8</td>\n",
       "      <td>11.8</td>\n",
       "      <td>71.6</td>\n",
       "    </tr>\n",
       "    <tr>\n",
       "      <th>36</th>\n",
       "      <td>23810</td>\n",
       "      <td>Latrobe (C)</td>\n",
       "      <td>11.3</td>\n",
       "      <td>26.7</td>\n",
       "      <td>8.5</td>\n",
       "      <td>12.7</td>\n",
       "      <td>12.1</td>\n",
       "      <td>71.3</td>\n",
       "    </tr>\n",
       "    <tr>\n",
       "      <th>26</th>\n",
       "      <td>22750</td>\n",
       "      <td>Greater Geelong (C)</td>\n",
       "      <td>6.2</td>\n",
       "      <td>33.7</td>\n",
       "      <td>12.2</td>\n",
       "      <td>9.7</td>\n",
       "      <td>8.4</td>\n",
       "      <td>70.2</td>\n",
       "    </tr>\n",
       "    <tr>\n",
       "      <th>27</th>\n",
       "      <td>22830</td>\n",
       "      <td>Greater Shepparton (C)</td>\n",
       "      <td>7.1</td>\n",
       "      <td>30.2</td>\n",
       "      <td>9.2</td>\n",
       "      <td>10.7</td>\n",
       "      <td>12.8</td>\n",
       "      <td>70.0</td>\n",
       "    </tr>\n",
       "    <tr>\n",
       "      <th>68</th>\n",
       "      <td>26700</td>\n",
       "      <td>Wangaratta (RC)</td>\n",
       "      <td>5.7</td>\n",
       "      <td>32.5</td>\n",
       "      <td>10.3</td>\n",
       "      <td>14.1</td>\n",
       "      <td>6.4</td>\n",
       "      <td>69.0</td>\n",
       "    </tr>\n",
       "    <tr>\n",
       "      <th>74</th>\n",
       "      <td>27170</td>\n",
       "      <td>Wodonga (RC)</td>\n",
       "      <td>5.7</td>\n",
       "      <td>32.7</td>\n",
       "      <td>10.1</td>\n",
       "      <td>11.5</td>\n",
       "      <td>8.8</td>\n",
       "      <td>68.8</td>\n",
       "    </tr>\n",
       "    <tr>\n",
       "      <th>22</th>\n",
       "      <td>22410</td>\n",
       "      <td>Glenelg (S)</td>\n",
       "      <td>4.3</td>\n",
       "      <td>35.7</td>\n",
       "      <td>16.4</td>\n",
       "      <td>6.7</td>\n",
       "      <td>5.2</td>\n",
       "      <td>68.3</td>\n",
       "    </tr>\n",
       "    <tr>\n",
       "      <th>30</th>\n",
       "      <td>23110</td>\n",
       "      <td>Hobsons Bay (C)</td>\n",
       "      <td>4.6</td>\n",
       "      <td>33.3</td>\n",
       "      <td>11.0</td>\n",
       "      <td>9.7</td>\n",
       "      <td>9.6</td>\n",
       "      <td>68.2</td>\n",
       "    </tr>\n",
       "    <tr>\n",
       "      <th>18</th>\n",
       "      <td>22110</td>\n",
       "      <td>East Gippsland (S)</td>\n",
       "      <td>5.8</td>\n",
       "      <td>32.1</td>\n",
       "      <td>12.5</td>\n",
       "      <td>9.0</td>\n",
       "      <td>8.4</td>\n",
       "      <td>67.8</td>\n",
       "    </tr>\n",
       "    <tr>\n",
       "      <th>47</th>\n",
       "      <td>24900</td>\n",
       "      <td>Moira (S)</td>\n",
       "      <td>7.8</td>\n",
       "      <td>29.3</td>\n",
       "      <td>8.5</td>\n",
       "      <td>12.6</td>\n",
       "      <td>8.9</td>\n",
       "      <td>67.1</td>\n",
       "    </tr>\n",
       "    <tr>\n",
       "      <th>41</th>\n",
       "      <td>24330</td>\n",
       "      <td>Maribyrnong (C)</td>\n",
       "      <td>8.9</td>\n",
       "      <td>27.3</td>\n",
       "      <td>11.1</td>\n",
       "      <td>10.4</td>\n",
       "      <td>8.8</td>\n",
       "      <td>66.5</td>\n",
       "    </tr>\n",
       "    <tr>\n",
       "      <th>45</th>\n",
       "      <td>24780</td>\n",
       "      <td>Mildura (RC)</td>\n",
       "      <td>6.4</td>\n",
       "      <td>31.1</td>\n",
       "      <td>7.6</td>\n",
       "      <td>13.0</td>\n",
       "      <td>8.3</td>\n",
       "      <td>66.4</td>\n",
       "    </tr>\n",
       "    <tr>\n",
       "      <th>24</th>\n",
       "      <td>22620</td>\n",
       "      <td>Greater Bendigo (C)</td>\n",
       "      <td>5.2</td>\n",
       "      <td>30.2</td>\n",
       "      <td>11.0</td>\n",
       "      <td>9.3</td>\n",
       "      <td>10.2</td>\n",
       "      <td>65.9</td>\n",
       "    </tr>\n",
       "    <tr>\n",
       "      <th>51</th>\n",
       "      <td>25250</td>\n",
       "      <td>Moreland (C)</td>\n",
       "      <td>7.7</td>\n",
       "      <td>31.5</td>\n",
       "      <td>11.9</td>\n",
       "      <td>5.9</td>\n",
       "      <td>8.1</td>\n",
       "      <td>65.1</td>\n",
       "    </tr>\n",
       "    <tr>\n",
       "      <th>20</th>\n",
       "      <td>22250</td>\n",
       "      <td>Gannawarra (S)</td>\n",
       "      <td>7.0</td>\n",
       "      <td>27.7</td>\n",
       "      <td>8.6</td>\n",
       "      <td>10.4</td>\n",
       "      <td>11.2</td>\n",
       "      <td>64.9</td>\n",
       "    </tr>\n",
       "    <tr>\n",
       "      <th>11</th>\n",
       "      <td>21370</td>\n",
       "      <td>Campaspe (S)</td>\n",
       "      <td>6.8</td>\n",
       "      <td>31.4</td>\n",
       "      <td>6.9</td>\n",
       "      <td>9.6</td>\n",
       "      <td>9.6</td>\n",
       "      <td>64.3</td>\n",
       "    </tr>\n",
       "    <tr>\n",
       "      <th>44</th>\n",
       "      <td>24650</td>\n",
       "      <td>Melton (S)</td>\n",
       "      <td>7.9</td>\n",
       "      <td>27.5</td>\n",
       "      <td>10.0</td>\n",
       "      <td>9.1</td>\n",
       "      <td>9.3</td>\n",
       "      <td>63.8</td>\n",
       "    </tr>\n",
       "    <tr>\n",
       "      <th>73</th>\n",
       "      <td>27070</td>\n",
       "      <td>Whittlesea (C)</td>\n",
       "      <td>6.8</td>\n",
       "      <td>30.3</td>\n",
       "      <td>12.3</td>\n",
       "      <td>6.4</td>\n",
       "      <td>7.8</td>\n",
       "      <td>63.6</td>\n",
       "    </tr>\n",
       "    <tr>\n",
       "      <th>4</th>\n",
       "      <td>20740</td>\n",
       "      <td>Bass Coast (S)</td>\n",
       "      <td>6.7</td>\n",
       "      <td>33.1</td>\n",
       "      <td>8.2</td>\n",
       "      <td>8.9</td>\n",
       "      <td>5.8</td>\n",
       "      <td>62.7</td>\n",
       "    </tr>\n",
       "    <tr>\n",
       "      <th>34</th>\n",
       "      <td>23430</td>\n",
       "      <td>Kingston (C)</td>\n",
       "      <td>3.5</td>\n",
       "      <td>33.1</td>\n",
       "      <td>11.0</td>\n",
       "      <td>4.9</td>\n",
       "      <td>8.7</td>\n",
       "      <td>61.2</td>\n",
       "    </tr>\n",
       "    <tr>\n",
       "      <th>32</th>\n",
       "      <td>23270</td>\n",
       "      <td>Hume (C)</td>\n",
       "      <td>6.5</td>\n",
       "      <td>28.3</td>\n",
       "      <td>9.0</td>\n",
       "      <td>9.5</td>\n",
       "      <td>7.4</td>\n",
       "      <td>60.7</td>\n",
       "    </tr>\n",
       "    <tr>\n",
       "      <th>42</th>\n",
       "      <td>24410</td>\n",
       "      <td>Maroondah (C)</td>\n",
       "      <td>3.2</td>\n",
       "      <td>30.7</td>\n",
       "      <td>10.1</td>\n",
       "      <td>6.5</td>\n",
       "      <td>10.1</td>\n",
       "      <td>60.6</td>\n",
       "    </tr>\n",
       "    <tr>\n",
       "      <th>76</th>\n",
       "      <td>27350</td>\n",
       "      <td>Yarra (C)</td>\n",
       "      <td>7.1</td>\n",
       "      <td>26.8</td>\n",
       "      <td>11.2</td>\n",
       "      <td>6.7</td>\n",
       "      <td>8.7</td>\n",
       "      <td>60.5</td>\n",
       "    </tr>\n",
       "    <tr>\n",
       "      <th>50</th>\n",
       "      <td>25150</td>\n",
       "      <td>Moorabool (S)</td>\n",
       "      <td>4.1</td>\n",
       "      <td>28.7</td>\n",
       "      <td>9.7</td>\n",
       "      <td>9.1</td>\n",
       "      <td>8.9</td>\n",
       "      <td>60.5</td>\n",
       "    </tr>\n",
       "    <tr>\n",
       "      <th>13</th>\n",
       "      <td>21610</td>\n",
       "      <td>Casey (C)</td>\n",
       "      <td>4.4</td>\n",
       "      <td>27.9</td>\n",
       "      <td>10.7</td>\n",
       "      <td>7.0</td>\n",
       "      <td>10.0</td>\n",
       "      <td>60.0</td>\n",
       "    </tr>\n",
       "    <tr>\n",
       "      <th>9</th>\n",
       "      <td>21180</td>\n",
       "      <td>Brimbank (C)</td>\n",
       "      <td>9.1</td>\n",
       "      <td>24.4</td>\n",
       "      <td>10.2</td>\n",
       "      <td>5.5</td>\n",
       "      <td>10.2</td>\n",
       "      <td>59.4</td>\n",
       "    </tr>\n",
       "    <tr>\n",
       "      <th>46</th>\n",
       "      <td>24850</td>\n",
       "      <td>Mitchell (S)</td>\n",
       "      <td>8.0</td>\n",
       "      <td>26.1</td>\n",
       "      <td>8.6</td>\n",
       "      <td>6.9</td>\n",
       "      <td>8.7</td>\n",
       "      <td>58.3</td>\n",
       "    </tr>\n",
       "    <tr>\n",
       "      <th>61</th>\n",
       "      <td>26170</td>\n",
       "      <td>South Gippsland (S)</td>\n",
       "      <td>6.8</td>\n",
       "      <td>26.7</td>\n",
       "      <td>8.0</td>\n",
       "      <td>6.5</td>\n",
       "      <td>9.1</td>\n",
       "      <td>57.1</td>\n",
       "    </tr>\n",
       "    <tr>\n",
       "      <th>25</th>\n",
       "      <td>22670</td>\n",
       "      <td>Greater Dandenong (C)</td>\n",
       "      <td>7.7</td>\n",
       "      <td>22.5</td>\n",
       "      <td>7.4</td>\n",
       "      <td>7.7</td>\n",
       "      <td>11.6</td>\n",
       "      <td>56.9</td>\n",
       "    </tr>\n",
       "    <tr>\n",
       "      <th>66</th>\n",
       "      <td>26610</td>\n",
       "      <td>Swan Hill (RC)</td>\n",
       "      <td>8.5</td>\n",
       "      <td>20.1</td>\n",
       "      <td>6.7</td>\n",
       "      <td>11.0</td>\n",
       "      <td>10.4</td>\n",
       "      <td>56.7</td>\n",
       "    </tr>\n",
       "    <tr>\n",
       "      <th>72</th>\n",
       "      <td>26980</td>\n",
       "      <td>Whitehorse (C)</td>\n",
       "      <td>2.7</td>\n",
       "      <td>31.6</td>\n",
       "      <td>12.2</td>\n",
       "      <td>3.2</td>\n",
       "      <td>6.7</td>\n",
       "      <td>56.4</td>\n",
       "    </tr>\n",
       "    <tr>\n",
       "      <th>77</th>\n",
       "      <td>27450</td>\n",
       "      <td>Yarra Ranges (S)</td>\n",
       "      <td>2.3</td>\n",
       "      <td>27.9</td>\n",
       "      <td>8.3</td>\n",
       "      <td>9.1</td>\n",
       "      <td>8.7</td>\n",
       "      <td>56.3</td>\n",
       "    </tr>\n",
       "    <tr>\n",
       "      <th>75</th>\n",
       "      <td>27260</td>\n",
       "      <td>Wyndham (C)</td>\n",
       "      <td>4.9</td>\n",
       "      <td>25.6</td>\n",
       "      <td>9.2</td>\n",
       "      <td>8.1</td>\n",
       "      <td>8.3</td>\n",
       "      <td>56.1</td>\n",
       "    </tr>\n",
       "    <tr>\n",
       "      <th>3</th>\n",
       "      <td>20660</td>\n",
       "      <td>Banyule (C)</td>\n",
       "      <td>3.8</td>\n",
       "      <td>29.0</td>\n",
       "      <td>9.5</td>\n",
       "      <td>5.0</td>\n",
       "      <td>8.4</td>\n",
       "      <td>55.7</td>\n",
       "    </tr>\n",
       "    <tr>\n",
       "      <th>35</th>\n",
       "      <td>23670</td>\n",
       "      <td>Knox (C)</td>\n",
       "      <td>4.6</td>\n",
       "      <td>26.2</td>\n",
       "      <td>9.5</td>\n",
       "      <td>6.9</td>\n",
       "      <td>8.5</td>\n",
       "      <td>55.7</td>\n",
       "    </tr>\n",
       "    <tr>\n",
       "      <th>17</th>\n",
       "      <td>21890</td>\n",
       "      <td>Darebin (C)</td>\n",
       "      <td>4.4</td>\n",
       "      <td>27.7</td>\n",
       "      <td>8.6</td>\n",
       "      <td>7.1</td>\n",
       "      <td>7.8</td>\n",
       "      <td>55.6</td>\n",
       "    </tr>\n",
       "    <tr>\n",
       "      <th>16</th>\n",
       "      <td>21830</td>\n",
       "      <td>Corangamite (S)</td>\n",
       "      <td>5.3</td>\n",
       "      <td>30.2</td>\n",
       "      <td>6.4</td>\n",
       "      <td>5.1</td>\n",
       "      <td>8.3</td>\n",
       "      <td>55.3</td>\n",
       "    </tr>\n",
       "    <tr>\n",
       "      <th>12</th>\n",
       "      <td>21450</td>\n",
       "      <td>Cardinia (S)</td>\n",
       "      <td>3.7</td>\n",
       "      <td>30.0</td>\n",
       "      <td>7.6</td>\n",
       "      <td>7.0</td>\n",
       "      <td>6.4</td>\n",
       "      <td>54.7</td>\n",
       "    </tr>\n",
       "    <tr>\n",
       "      <th>52</th>\n",
       "      <td>25340</td>\n",
       "      <td>Mornington Peninsula (S)</td>\n",
       "      <td>2.8</td>\n",
       "      <td>32.1</td>\n",
       "      <td>8.2</td>\n",
       "      <td>6.3</td>\n",
       "      <td>5.3</td>\n",
       "      <td>54.7</td>\n",
       "    </tr>\n",
       "    <tr>\n",
       "      <th>5</th>\n",
       "      <td>20830</td>\n",
       "      <td>Baw Baw (S)</td>\n",
       "      <td>5.2</td>\n",
       "      <td>26.5</td>\n",
       "      <td>5.3</td>\n",
       "      <td>10.1</td>\n",
       "      <td>6.4</td>\n",
       "      <td>53.5</td>\n",
       "    </tr>\n",
       "    <tr>\n",
       "      <th>58</th>\n",
       "      <td>25900</td>\n",
       "      <td>Port Phillip (C)</td>\n",
       "      <td>5.4</td>\n",
       "      <td>28.2</td>\n",
       "      <td>8.1</td>\n",
       "      <td>7.4</td>\n",
       "      <td>4.4</td>\n",
       "      <td>53.5</td>\n",
       "    </tr>\n",
       "    <tr>\n",
       "      <th>63</th>\n",
       "      <td>26350</td>\n",
       "      <td>Stonnington (C)</td>\n",
       "      <td>3.5</td>\n",
       "      <td>29.7</td>\n",
       "      <td>9.6</td>\n",
       "      <td>3.8</td>\n",
       "      <td>6.6</td>\n",
       "      <td>53.2</td>\n",
       "    </tr>\n",
       "    <tr>\n",
       "      <th>49</th>\n",
       "      <td>25060</td>\n",
       "      <td>Moonee Valley (C)</td>\n",
       "      <td>6.4</td>\n",
       "      <td>22.6</td>\n",
       "      <td>8.7</td>\n",
       "      <td>6.4</td>\n",
       "      <td>6.6</td>\n",
       "      <td>50.7</td>\n",
       "    </tr>\n",
       "    <tr>\n",
       "      <th>21</th>\n",
       "      <td>22310</td>\n",
       "      <td>Glen Eira (C)</td>\n",
       "      <td>4.3</td>\n",
       "      <td>27.1</td>\n",
       "      <td>7.6</td>\n",
       "      <td>3.5</td>\n",
       "      <td>6.6</td>\n",
       "      <td>49.1</td>\n",
       "    </tr>\n",
       "    <tr>\n",
       "      <th>38</th>\n",
       "      <td>24130</td>\n",
       "      <td>Macedon Ranges (S)</td>\n",
       "      <td>3.5</td>\n",
       "      <td>23.7</td>\n",
       "      <td>9.0</td>\n",
       "      <td>5.6</td>\n",
       "      <td>6.5</td>\n",
       "      <td>48.3</td>\n",
       "    </tr>\n",
       "    <tr>\n",
       "      <th>6</th>\n",
       "      <td>20910</td>\n",
       "      <td>Bayside (C)</td>\n",
       "      <td>3.6</td>\n",
       "      <td>23.9</td>\n",
       "      <td>7.5</td>\n",
       "      <td>4.9</td>\n",
       "      <td>5.7</td>\n",
       "      <td>45.6</td>\n",
       "    </tr>\n",
       "    <tr>\n",
       "      <th>43</th>\n",
       "      <td>24600</td>\n",
       "      <td>Melbourne (C)</td>\n",
       "      <td>2.4</td>\n",
       "      <td>19.3</td>\n",
       "      <td>5.4</td>\n",
       "      <td>6.7</td>\n",
       "      <td>5.9</td>\n",
       "      <td>39.7</td>\n",
       "    </tr>\n",
       "    <tr>\n",
       "      <th>56</th>\n",
       "      <td>25710</td>\n",
       "      <td>Nillumbik (S)</td>\n",
       "      <td>2.4</td>\n",
       "      <td>24.6</td>\n",
       "      <td>6.4</td>\n",
       "      <td>3.2</td>\n",
       "      <td>2.4</td>\n",
       "      <td>39.0</td>\n",
       "    </tr>\n",
       "    <tr>\n",
       "      <th>39</th>\n",
       "      <td>24210</td>\n",
       "      <td>Manningham (C)</td>\n",
       "      <td>1.9</td>\n",
       "      <td>22.3</td>\n",
       "      <td>7.6</td>\n",
       "      <td>1.6</td>\n",
       "      <td>5.4</td>\n",
       "      <td>38.8</td>\n",
       "    </tr>\n",
       "    <tr>\n",
       "      <th>8</th>\n",
       "      <td>21110</td>\n",
       "      <td>Boroondara (C)</td>\n",
       "      <td>1.7</td>\n",
       "      <td>22.5</td>\n",
       "      <td>6.3</td>\n",
       "      <td>2.9</td>\n",
       "      <td>5.1</td>\n",
       "      <td>38.5</td>\n",
       "    </tr>\n",
       "    <tr>\n",
       "      <th>48</th>\n",
       "      <td>24970</td>\n",
       "      <td>Monash (C)</td>\n",
       "      <td>3.0</td>\n",
       "      <td>21.1</td>\n",
       "      <td>6.0</td>\n",
       "      <td>3.0</td>\n",
       "      <td>4.9</td>\n",
       "      <td>38.0</td>\n",
       "    </tr>\n",
       "  </tbody>\n",
       "</table>\n",
       "</div>"
      ],
      "text/plain": [
       "     lga_code                  lga_name  diabetes_per100,000  \\\n",
       "57      25810    Northern Grampians (S)                 11.9   \n",
       "14      21670    Central Goldfields (S)                 14.1   \n",
       "1       20260               Ararat (RC)                 13.0   \n",
       "70      26810            Wellington (S)                  5.9   \n",
       "7       21010              Benalla (RC)                 10.3   \n",
       "28      22910               Hepburn (S)                  5.6   \n",
       "2       20570              Ballarat (C)                  5.1   \n",
       "19      22170             Frankston (C)                  6.7   \n",
       "31      23190              Horsham (RC)                 10.9   \n",
       "69      26730           Warrnambool (C)                  8.0   \n",
       "36      23810               Latrobe (C)                 11.3   \n",
       "26      22750       Greater Geelong (C)                  6.2   \n",
       "27      22830    Greater Shepparton (C)                  7.1   \n",
       "68      26700           Wangaratta (RC)                  5.7   \n",
       "74      27170              Wodonga (RC)                  5.7   \n",
       "22      22410               Glenelg (S)                  4.3   \n",
       "30      23110           Hobsons Bay (C)                  4.6   \n",
       "18      22110        East Gippsland (S)                  5.8   \n",
       "47      24900                 Moira (S)                  7.8   \n",
       "41      24330           Maribyrnong (C)                  8.9   \n",
       "45      24780              Mildura (RC)                  6.4   \n",
       "24      22620       Greater Bendigo (C)                  5.2   \n",
       "51      25250              Moreland (C)                  7.7   \n",
       "20      22250            Gannawarra (S)                  7.0   \n",
       "11      21370              Campaspe (S)                  6.8   \n",
       "44      24650                Melton (S)                  7.9   \n",
       "73      27070            Whittlesea (C)                  6.8   \n",
       "4       20740            Bass Coast (S)                  6.7   \n",
       "34      23430              Kingston (C)                  3.5   \n",
       "32      23270                  Hume (C)                  6.5   \n",
       "42      24410             Maroondah (C)                  3.2   \n",
       "76      27350                 Yarra (C)                  7.1   \n",
       "50      25150             Moorabool (S)                  4.1   \n",
       "13      21610                 Casey (C)                  4.4   \n",
       "9       21180              Brimbank (C)                  9.1   \n",
       "46      24850              Mitchell (S)                  8.0   \n",
       "61      26170       South Gippsland (S)                  6.8   \n",
       "25      22670     Greater Dandenong (C)                  7.7   \n",
       "66      26610            Swan Hill (RC)                  8.5   \n",
       "72      26980            Whitehorse (C)                  2.7   \n",
       "77      27450          Yarra Ranges (S)                  2.3   \n",
       "75      27260               Wyndham (C)                  4.9   \n",
       "3       20660               Banyule (C)                  3.8   \n",
       "35      23670                  Knox (C)                  4.6   \n",
       "17      21890               Darebin (C)                  4.4   \n",
       "16      21830           Corangamite (S)                  5.3   \n",
       "12      21450              Cardinia (S)                  3.7   \n",
       "52      25340  Mornington Peninsula (S)                  2.8   \n",
       "5       20830               Baw Baw (S)                  5.2   \n",
       "58      25900          Port Phillip (C)                  5.4   \n",
       "63      26350           Stonnington (C)                  3.5   \n",
       "49      25060         Moonee Valley (C)                  6.4   \n",
       "21      22310             Glen Eira (C)                  4.3   \n",
       "38      24130        Macedon Ranges (S)                  3.5   \n",
       "6       20910               Bayside (C)                  3.6   \n",
       "43      24600             Melbourne (C)                  2.4   \n",
       "56      25710             Nillumbik (S)                  2.4   \n",
       "39      24210            Manningham (C)                  1.9   \n",
       "8       21110            Boroondara (C)                  1.7   \n",
       "48      24970                Monash (C)                  3.0   \n",
       "\n",
       "    cancer_per100,000  colorectal_per100,000  pulmonary _per100,000  \\\n",
       "57               53.9                   13.3                   16.5   \n",
       "14               40.4                   13.3                   13.0   \n",
       "1                34.6                   13.2                   12.5   \n",
       "70               40.0                   10.9                    9.0   \n",
       "7                37.5                    9.2                    6.6   \n",
       "28               35.1                   14.4                   10.6   \n",
       "2                34.9                   12.8                   12.0   \n",
       "19               33.9                   12.4                   12.7   \n",
       "31               29.0                   10.9                    6.8   \n",
       "69               32.6                    9.4                    9.8   \n",
       "36               26.7                    8.5                   12.7   \n",
       "26               33.7                   12.2                    9.7   \n",
       "27               30.2                    9.2                   10.7   \n",
       "68               32.5                   10.3                   14.1   \n",
       "74               32.7                   10.1                   11.5   \n",
       "22               35.7                   16.4                    6.7   \n",
       "30               33.3                   11.0                    9.7   \n",
       "18               32.1                   12.5                    9.0   \n",
       "47               29.3                    8.5                   12.6   \n",
       "41               27.3                   11.1                   10.4   \n",
       "45               31.1                    7.6                   13.0   \n",
       "24               30.2                   11.0                    9.3   \n",
       "51               31.5                   11.9                    5.9   \n",
       "20               27.7                    8.6                   10.4   \n",
       "11               31.4                    6.9                    9.6   \n",
       "44               27.5                   10.0                    9.1   \n",
       "73               30.3                   12.3                    6.4   \n",
       "4                33.1                    8.2                    8.9   \n",
       "34               33.1                   11.0                    4.9   \n",
       "32               28.3                    9.0                    9.5   \n",
       "42               30.7                   10.1                    6.5   \n",
       "76               26.8                   11.2                    6.7   \n",
       "50               28.7                    9.7                    9.1   \n",
       "13               27.9                   10.7                    7.0   \n",
       "9                24.4                   10.2                    5.5   \n",
       "46               26.1                    8.6                    6.9   \n",
       "61               26.7                    8.0                    6.5   \n",
       "25               22.5                    7.4                    7.7   \n",
       "66               20.1                    6.7                   11.0   \n",
       "72               31.6                   12.2                    3.2   \n",
       "77               27.9                    8.3                    9.1   \n",
       "75               25.6                    9.2                    8.1   \n",
       "3                29.0                    9.5                    5.0   \n",
       "35               26.2                    9.5                    6.9   \n",
       "17               27.7                    8.6                    7.1   \n",
       "16               30.2                    6.4                    5.1   \n",
       "12               30.0                    7.6                    7.0   \n",
       "52               32.1                    8.2                    6.3   \n",
       "5                26.5                    5.3                   10.1   \n",
       "58               28.2                    8.1                    7.4   \n",
       "63               29.7                    9.6                    3.8   \n",
       "49               22.6                    8.7                    6.4   \n",
       "21               27.1                    7.6                    3.5   \n",
       "38               23.7                    9.0                    5.6   \n",
       "6                23.9                    7.5                    4.9   \n",
       "43               19.3                    5.4                    6.7   \n",
       "56               24.6                    6.4                    3.2   \n",
       "39               22.3                    7.6                    1.6   \n",
       "8                22.5                    6.3                    2.9   \n",
       "48               21.1                    6.0                    3.0   \n",
       "\n",
       "    cerebrovascular _per100,000  Avoidable_Death_Total  \n",
       "57                         13.3                  108.9  \n",
       "14                         10.9                   91.7  \n",
       "1                          15.8                   89.1  \n",
       "70                         13.1                   78.9  \n",
       "7                          11.5                   75.1  \n",
       "28                          9.2                   74.9  \n",
       "2                           9.8                   74.6  \n",
       "19                          7.3                   73.0  \n",
       "31                         14.8                   72.4  \n",
       "69                         11.8                   71.6  \n",
       "36                         12.1                   71.3  \n",
       "26                          8.4                   70.2  \n",
       "27                         12.8                   70.0  \n",
       "68                          6.4                   69.0  \n",
       "74                          8.8                   68.8  \n",
       "22                          5.2                   68.3  \n",
       "30                          9.6                   68.2  \n",
       "18                          8.4                   67.8  \n",
       "47                          8.9                   67.1  \n",
       "41                          8.8                   66.5  \n",
       "45                          8.3                   66.4  \n",
       "24                         10.2                   65.9  \n",
       "51                          8.1                   65.1  \n",
       "20                         11.2                   64.9  \n",
       "11                          9.6                   64.3  \n",
       "44                          9.3                   63.8  \n",
       "73                          7.8                   63.6  \n",
       "4                           5.8                   62.7  \n",
       "34                          8.7                   61.2  \n",
       "32                          7.4                   60.7  \n",
       "42                         10.1                   60.6  \n",
       "76                          8.7                   60.5  \n",
       "50                          8.9                   60.5  \n",
       "13                         10.0                   60.0  \n",
       "9                          10.2                   59.4  \n",
       "46                          8.7                   58.3  \n",
       "61                          9.1                   57.1  \n",
       "25                         11.6                   56.9  \n",
       "66                         10.4                   56.7  \n",
       "72                          6.7                   56.4  \n",
       "77                          8.7                   56.3  \n",
       "75                          8.3                   56.1  \n",
       "3                           8.4                   55.7  \n",
       "35                          8.5                   55.7  \n",
       "17                          7.8                   55.6  \n",
       "16                          8.3                   55.3  \n",
       "12                          6.4                   54.7  \n",
       "52                          5.3                   54.7  \n",
       "5                           6.4                   53.5  \n",
       "58                          4.4                   53.5  \n",
       "63                          6.6                   53.2  \n",
       "49                          6.6                   50.7  \n",
       "21                          6.6                   49.1  \n",
       "38                          6.5                   48.3  \n",
       "6                           5.7                   45.6  \n",
       "43                          5.9                   39.7  \n",
       "56                          2.4                   39.0  \n",
       "39                          5.4                   38.8  \n",
       "8                           5.1                   38.5  \n",
       "48                          4.9                   38.0  "
      ]
     },
     "execution_count": 64,
     "metadata": {},
     "output_type": "execute_result"
    }
   ],
   "source": [
    "Avoidable_Death.sort_values(['Avoidable_Death_Total'], ascending = False)"
   ]
  },
  {
   "cell_type": "markdown",
   "metadata": {
    "heading_collapsed": true
   },
   "source": [
    "## Avoid Death Total"
   ]
  },
  {
   "cell_type": "code",
   "execution_count": 33,
   "metadata": {
    "ExecuteTime": {
     "end_time": "2018-05-05T09:54:40.756245Z",
     "start_time": "2018-05-05T09:54:40.579496Z"
    },
    "hidden": true
   },
   "outputs": [
    {
     "name": "stdout",
     "output_type": "stream",
     "text": [
      "Pearson r is  -0.655342210612566\n"
     ]
    },
    {
     "data": {
      "image/png": "[encoded data removed]",
      "text/plain": [
       "<Figure size 432x288 with 1 Axes>"
      ]
     },
     "metadata": {},
     "output_type": "display_data"
    }
   ],
   "source": [
    "from scipy.stats import linregress\n",
    "def abline(slope, intercept):\n",
    "    \"\"\"Plot a line from slope and intercept\"\"\"\n",
    "    axes = plt.gca()\n",
    "    x_vals = np.array(axes.get_xlim())\n",
    "    y_vals = intercept + slope * x_vals\n",
    "    plt.plot(x_vals, y_vals, '-', color='black')\n",
    "\n",
    "\n",
    "\n",
    "df1 = pd.DataFrame({'Avoidable_Death_Total': Avoidable_Death_Total, \\\n",
    "                    'Health_Risk_Factor_Fruit_Adequate_Intake':  Health_Risk_Factor_Fruit_Adequate_Intake})\n",
    "plt.scatter(df1.iloc[:, 0], df1.iloc[:,1], color = 'r')\n",
    "df1 = df1.dropna()\n",
    "Info = linregress(df1.iloc[:, 0], df1.iloc[:,1])\n",
    "abline(Info[0], Info[1])\n",
    "plt.xlabel('Total avoidable death \\nper 100,000 population', fontsize=14)\n",
    "plt.ylabel('Number of People \\n Take Adequate Fruit\\n every day per 100 population', fontsize=14)\n",
    "plt.title(\"Avoidable_Death_Total VS Health_Risk_Factor_Fruit_Adequate_Intake\", color = 'w')\n",
    "print(\"Pearson r is \",df1.iloc[:, 0].corr(df1.iloc[:, 1]))"
   ]
  },
  {
   "cell_type": "code",
   "execution_count": 34,
   "metadata": {
    "ExecuteTime": {
     "end_time": "2018-05-05T09:54:47.087463Z",
     "start_time": "2018-05-05T09:54:46.894449Z"
    },
    "hidden": true
   },
   "outputs": [
    {
     "name": "stdout",
     "output_type": "stream",
     "text": [
      "Pearson r is  0.6293938337921389\n"
     ]
    },
    {
     "data": {
      "image/png": "[encoded data removed]",
      "text/plain": [
       "<Figure size 432x288 with 1 Axes>"
      ]
     },
     "metadata": {},
     "output_type": "display_data"
    }
   ],
   "source": [
    "from scipy.stats import linregress\n",
    "def abline(slope, intercept):\n",
    "    \"\"\"Plot a line from slope and intercept\"\"\"\n",
    "    axes = plt.gca()\n",
    "    x_vals = np.array(axes.get_xlim())\n",
    "    y_vals = intercept + slope * x_vals\n",
    "    plt.plot(x_vals, y_vals, '-', color='black')\n",
    "\n",
    "\n",
    "df1 = pd.DataFrame({'Avoidable_Death_Total': Avoidable_Death_Total, \\\n",
    "                    'Health_Risk_Factor_Obese': Health_Risk_Factor_Obese})\n",
    "\n",
    "plt.scatter(df1.iloc[:, 0], df1.iloc[:,1], color = 'r')\n",
    "df1 = df1.dropna()\n",
    "Info = linregress(df1.iloc[:, 0], df1.iloc[:,1])\n",
    "abline(Info[0], Info[1])\n",
    "plt.xlabel('Total avoidable death \\n per 100,000 population', fontsize=14)\n",
    "plt.ylabel('Number of Obese people\\n per 100 population', fontsize=14)\n",
    "plt.title(\"Avoidable_Death_Total VS Health_Risk_Factor_Obese\", color = 'w')\n",
    "print(\"Pearson r is \",df1.iloc[:, 0].corr(df1.iloc[:, 1]))"
   ]
  },
  {
   "cell_type": "code",
   "execution_count": 35,
   "metadata": {
    "ExecuteTime": {
     "end_time": "2018-05-05T09:54:58.154950Z",
     "start_time": "2018-05-05T09:54:57.946396Z"
    },
    "hidden": true
   },
   "outputs": [
    {
     "name": "stdout",
     "output_type": "stream",
     "text": [
      "Pearson r is  0.575900267405388\n"
     ]
    },
    {
     "data": {
      "image/png": "[encoded data removed]",
      "text/plain": [
       "<Figure size 432x288 with 1 Axes>"
      ]
     },
     "metadata": {},
     "output_type": "display_data"
    }
   ],
   "source": [
    "from scipy.stats import linregress\n",
    "def abline(slope, intercept):\n",
    "    \"\"\"Plot a line from slope and intercept\"\"\"\n",
    "    axes = plt.gca()\n",
    "    x_vals = np.array(axes.get_xlim())\n",
    "    y_vals = intercept + slope * x_vals\n",
    "    plt.plot(x_vals, y_vals, '-', color='black')\n",
    "\n",
    "\n",
    "\n",
    "df1 = pd.DataFrame({'Avoidable_Death_Total': Avoidable_Death_Total, \\\n",
    "                    'Health_Risk_Factor_RiskWaistMearsurement': Health_Risk_Factor_RiskWaistMearsurement})\n",
    "\n",
    "plt.scatter(df1.iloc[:, 0], df1.iloc[:,1], color = 'r')\n",
    "df1 = df1.dropna()\n",
    "Info = linregress(df1.iloc[:, 0], df1.iloc[:,1])\n",
    "abline(Info[0], Info[1])\n",
    "plt.xlabel('Total avoidable death \\n per 100,000 population', fontsize=14)\n",
    "plt.ylabel('Number of people of \\n risky waist measurement\\n per 100 population', fontsize=14)\n",
    "plt.title(\"Avoidable_Death_Total VS Health_Risk_Factor_RiskWaistMearsurement\", color = 'w')\n",
    "print(\"Pearson r is \",df1.iloc[:, 0].corr(df1.iloc[:, 1]))"
   ]
  },
  {
   "cell_type": "code",
   "execution_count": 144,
   "metadata": {
    "ExecuteTime": {
     "end_time": "2018-04-23T12:39:58.019847Z",
     "start_time": "2018-04-23T12:39:57.819323Z"
    },
    "hidden": true
   },
   "outputs": [
    {
     "name": "stdout",
     "output_type": "stream",
     "text": [
      "Pearson r is  0.5400859416986464\n"
     ]
    },
    {
     "data": {
      "image/png": "[encoded data removed]",
      "text/plain": [
       "<Figure size 432x288 with 1 Axes>"
      ]
     },
     "metadata": {},
     "output_type": "display_data"
    }
   ],
   "source": [
    "from scipy.stats import linregress\n",
    "def abline(slope, intercept):\n",
    "    \"\"\"Plot a line from slope and intercept\"\"\"\n",
    "    axes = plt.gca()\n",
    "    x_vals = np.array(axes.get_xlim())\n",
    "    y_vals = intercept + slope * x_vals\n",
    "    plt.plot(x_vals, y_vals, '-', color='black')\n",
    "\n",
    "\n",
    "\n",
    "df1 = pd.DataFrame({'Avoidable_Death_Total': Avoidable_Death_Total, \\\n",
    "                    'Health_Risk_Factor_Low_Exercise': Health_Risk_Factor_Low_Exercise})\n",
    "\n",
    "plt.scatter(df1.iloc[:, 0], df1.iloc[:,1], color = 'r')\n",
    "df1 = df1.dropna()\n",
    "Info = linregress(df1.iloc[:, 0], df1.iloc[:,1])\n",
    "abline(Info[0], Info[1])\n",
    "plt.title(\"Avoidable_Death_Total VS Health_Risk_Factor_Low_Exercise\", color = 'w')\n",
    "print(\"Pearson r is \",df1.iloc[:, 0].corr(df1.iloc[:, 1]))"
   ]
  },
  {
   "cell_type": "code",
   "execution_count": 145,
   "metadata": {
    "ExecuteTime": {
     "end_time": "2018-04-23T12:40:11.760462Z",
     "start_time": "2018-04-23T12:40:11.575466Z"
    },
    "hidden": true,
    "scrolled": true
   },
   "outputs": [
    {
     "name": "stdout",
     "output_type": "stream",
     "text": [
      "Pearson r is  0.6084034293181976\n"
     ]
    },
    {
     "data": {
      "image/png": "[encoded data removed]",
      "text/plain": [
       "<Figure size 432x288 with 1 Axes>"
      ]
     },
     "metadata": {},
     "output_type": "display_data"
    }
   ],
   "source": [
    "from scipy.stats import linregress\n",
    "def abline(slope, intercept):\n",
    "    \"\"\"Plot a line from slope and intercept\"\"\"\n",
    "    axes = plt.gca()\n",
    "    x_vals = np.array(axes.get_xlim())\n",
    "    y_vals = intercept + slope * x_vals\n",
    "    plt.plot(x_vals, y_vals, '-', color='black')\n",
    "\n",
    "\n",
    "\n",
    "df1 = pd.DataFrame({'Avoidable_Death_Total': Avoidable_Death_Total, \\\n",
    "                    'Health_Risk_Factor_Psychological_Distress': Health_Risk_Factor_Psychological_Distress})\n",
    "\n",
    "plt.scatter(df1.iloc[:, 0], df1.iloc[:,1], color = 'r')\n",
    "df1 = df1.dropna()\n",
    "Info = linregress(df1.iloc[:, 0], df1.iloc[:,1])\n",
    "abline(Info[0], Info[1])\n",
    "plt.title(\"Avoidable_Death_Total VS Health_Risk_Factor_Psychological_Distress\", color = 'w')\n",
    "print(\"Pearson r is \",df1.iloc[:, 0].corr(df1.iloc[:, 1]))"
   ]
  },
  {
   "cell_type": "code",
   "execution_count": 37,
   "metadata": {
    "ExecuteTime": {
     "end_time": "2018-05-05T09:56:07.718282Z",
     "start_time": "2018-05-05T09:56:07.531786Z"
    },
    "hidden": true
   },
   "outputs": [
    {
     "name": "stdout",
     "output_type": "stream",
     "text": [
      "Pearson r is  0.7081045347886481\n"
     ]
    },
    {
     "data": {
      "image/png": "[encoded data removed]",
      "text/plain": [
       "<Figure size 432x288 with 1 Axes>"
      ]
     },
     "metadata": {},
     "output_type": "display_data"
    }
   ],
   "source": [
    "from scipy.stats import linregress\n",
    "def abline(slope, intercept):\n",
    "    \"\"\"Plot a line from slope and intercept\"\"\"\n",
    "    axes = plt.gca()\n",
    "    x_vals = np.array(axes.get_xlim())\n",
    "    y_vals = intercept + slope * x_vals\n",
    "    plt.plot(x_vals, y_vals, '-', color='black')\n",
    "\n",
    "\n",
    "\n",
    "df1 = pd.DataFrame({'Avoidable_Death_Total': Avoidable_Death_Total, \\\n",
    "                    'Health_Risk_Factor_Smoker':  Health_Risk_Factor_Smoker})\n",
    "\n",
    "plt.scatter(df1.iloc[:, 0], df1.iloc[:,1], color = 'r')\n",
    "df1 = df1.dropna()\n",
    "Info = linregress(df1.iloc[:, 0], df1.iloc[:,1])\n",
    "abline(Info[0], Info[1])\n",
    "plt.xlabel('Total avoidable death \\n per 100,000 population', fontsize=14)\n",
    "plt.ylabel('Number of \\n excessive smoker\\n per 100 population', fontsize=14)\n",
    "plt.title(\"Avoidable_Death_Total VS Health_Risk_Factor_Smoker\", color = 'w')\n",
    "print(\"Pearson r is \",df1.iloc[:, 0].corr(df1.iloc[:, 1]))"
   ]
  },
  {
   "cell_type": "code",
   "execution_count": null,
   "metadata": {
    "hidden": true
   },
   "outputs": [],
   "source": []
  },
  {
   "cell_type": "markdown",
   "metadata": {
    "heading_collapsed": true
   },
   "source": [
    "## Avoid Death Cancer "
   ]
  },
  {
   "cell_type": "code",
   "execution_count": 61,
   "metadata": {
    "ExecuteTime": {
     "end_time": "2018-04-23T03:58:51.795980Z",
     "start_time": "2018-04-23T03:58:50.234824Z"
    },
    "hidden": true
   },
   "outputs": [
    {
     "name": "stdout",
     "output_type": "stream",
     "text": [
      "Mutual Infomation is 4.138967939826629\n",
      "Normalized Mutual Information is 0.9761371682663424\n"
     ]
    }
   ],
   "source": [
    "from sklearn.metrics import mutual_info_score\n",
    "from sklearn.metrics import normalized_mutual_info_score\n",
    "\n",
    "result = mutual_info_score(df1.iloc[:, 0], df1.iloc[:, 1])\n",
    "\n",
    "result1 = normalized_mutual_info_score(df1.iloc[:, 0], df1.iloc[:, 1])\n",
    "\n",
    "print(\"Mutual Infomation is\", result)\n",
    "print(\"Normalized Mutual Information is\", result1)"
   ]
  },
  {
   "cell_type": "code",
   "execution_count": 101,
   "metadata": {
    "ExecuteTime": {
     "end_time": "2018-04-23T11:59:55.710021Z",
     "start_time": "2018-04-23T11:59:55.542482Z"
    },
    "hidden": true
   },
   "outputs": [
    {
     "name": "stdout",
     "output_type": "stream",
     "text": [
      "Pearson r is  -0.36230428409041776\n"
     ]
    },
    {
     "data": {
      "image/png": "[encoded data removed]",
      "text/plain": [
       "<Figure size 432x288 with 1 Axes>"
      ]
     },
     "metadata": {},
     "output_type": "display_data"
    }
   ],
   "source": [
    "from scipy.stats import linregress\n",
    "def abline(slope, intercept):\n",
    "    \"\"\"Plot a line from slope and intercept\"\"\"\n",
    "    axes = plt.gca()\n",
    "    x_vals = np.array(axes.get_xlim())\n",
    "    y_vals = intercept + slope * x_vals\n",
    "    plt.plot(x_vals, y_vals, '-', color='black')\n",
    "\n",
    "\n",
    "plt.scatter(Avoidable_Death_Cancer, Health_Risk_Factor_Fruit_Adequate_Intake, color = 'r')\n",
    "df1 = pd.DataFrame({'Avoidable_Death_Cancer': Avoidable_Death_Cancer,\\\n",
    "                    'Health_Risk_Factor_Fruit_Adequate_Intake':Health_Risk_Factor_Fruit_Adequate_Intake})\n",
    "\n",
    "df1 = df1.dropna()\n",
    "Info = linregress(df1.iloc[:, 0], df1.iloc[:,1])\n",
    "abline(Info[0], Info[1])\n",
    "print(\"Pearson r is \",df1.iloc[:, 0].corr(df1.iloc[:, 1]))"
   ]
  },
  {
   "cell_type": "code",
   "execution_count": 104,
   "metadata": {
    "ExecuteTime": {
     "end_time": "2018-04-23T12:02:22.346646Z",
     "start_time": "2018-04-23T12:02:22.171651Z"
    },
    "hidden": true
   },
   "outputs": [
    {
     "name": "stdout",
     "output_type": "stream",
     "text": [
      "Pearson r is  0.5044101364145461\n"
     ]
    },
    {
     "data": {
      "image/png": "[encoded data removed]",
      "text/plain": [
       "<Figure size 432x288 with 1 Axes>"
      ]
     },
     "metadata": {},
     "output_type": "display_data"
    }
   ],
   "source": [
    "from scipy.stats import linregress\n",
    "def abline(slope, intercept):\n",
    "    \"\"\"Plot a line from slope and intercept\"\"\"\n",
    "    axes = plt.gca()\n",
    "    x_vals = np.array(axes.get_xlim())\n",
    "    y_vals = intercept + slope * x_vals\n",
    "    plt.plot(x_vals, y_vals, '-', color='black')\n",
    "\n",
    "\n",
    "plt.scatter(Avoidable_Death_Cancer, Health_Risk_Factor_Psychological_Distress, color = 'r')\n",
    "df1 = pd.DataFrame({'Avoidable_Death_Cancer': Avoidable_Death_Cancer,\\\n",
    "                    'Health_Risk_Factor_Psychological_Distress':Health_Risk_Factor_Psychological_Distress})\n",
    "\n",
    "df1 = df1.dropna()\n",
    "Info = linregress(df1.iloc[:, 0], df1.iloc[:,1])\n",
    "abline(Info[0], Info[1])\n",
    "print(\"Pearson r is \",df1.iloc[:, 0].corr(df1.iloc[:, 1]))"
   ]
  },
  {
   "cell_type": "code",
   "execution_count": 105,
   "metadata": {
    "ExecuteTime": {
     "end_time": "2018-04-23T12:04:25.627815Z",
     "start_time": "2018-04-23T12:04:25.452842Z"
    },
    "hidden": true
   },
   "outputs": [
    {
     "name": "stdout",
     "output_type": "stream",
     "text": [
      "Pearson r is  0.505216015934021\n"
     ]
    },
    {
     "data": {
      "image/png": "[encoded data removed]",
      "text/plain": [
       "<Figure size 432x288 with 1 Axes>"
      ]
     },
     "metadata": {},
     "output_type": "display_data"
    }
   ],
   "source": [
    "from scipy.stats import linregress\n",
    "def abline(slope, intercept):\n",
    "    \"\"\"Plot a line from slope and intercept\"\"\"\n",
    "    axes = plt.gca()\n",
    "    x_vals = np.array(axes.get_xlim())\n",
    "    y_vals = intercept + slope * x_vals\n",
    "    plt.plot(x_vals, y_vals, '-', color='black')\n",
    "\n",
    "\n",
    "plt.scatter(Avoidable_Death_Cancer, Health_Risk_Factor_Smoker, color = 'r')\n",
    "df1 = pd.DataFrame({'Avoidable_Death_Cancer': Avoidable_Death_Cancer,\\\n",
    "                    'Health_Risk_Factor_Smoker':Health_Risk_Factor_Smoker})\n",
    "\n",
    "df1 = df1.dropna()\n",
    "Info = linregress(df1.iloc[:, 0], df1.iloc[:,1])\n",
    "abline(Info[0], Info[1])\n",
    "print(\"Pearson r is \",df1.iloc[:, 0].corr(df1.iloc[:, 1]))"
   ]
  },
  {
   "cell_type": "markdown",
   "metadata": {
    "heading_collapsed": true
   },
   "source": [
    "##  Avoidable_Death_Diab"
   ]
  },
  {
   "cell_type": "code",
   "execution_count": 107,
   "metadata": {
    "ExecuteTime": {
     "end_time": "2018-04-23T12:09:22.438526Z",
     "start_time": "2018-04-23T12:09:22.277097Z"
    },
    "hidden": true
   },
   "outputs": [
    {
     "name": "stdout",
     "output_type": "stream",
     "text": [
      "Pearson r is  -0.7178372552421928\n"
     ]
    },
    {
     "data": {
      "image/png": "[encoded data removed]",
      "text/plain": [
       "<Figure size 432x288 with 1 Axes>"
      ]
     },
     "metadata": {},
     "output_type": "display_data"
    }
   ],
   "source": [
    "from scipy.stats import linregress\n",
    "def abline(slope, intercept):\n",
    "    \"\"\"Plot a line from slope and intercept\"\"\"\n",
    "    axes = plt.gca()\n",
    "    x_vals = np.array(axes.get_xlim())\n",
    "    y_vals = intercept + slope * x_vals\n",
    "    plt.plot(x_vals, y_vals, '-', color='black')\n",
    "\n",
    "\n",
    "plt.scatter(Avoidable_Death_Diab, Health_Risk_Factor_Fruit_Adequate_Intake, color = 'r')\n",
    "df1 = pd.DataFrame({'Avoidable_Death_Diab': Avoidable_Death_Diab,\\\n",
    "                    'Health_Risk_Factor_Fruit_Adequate_Intake':Health_Risk_Factor_Fruit_Adequate_Intake})\n",
    "\n",
    "df1 = df1.dropna()\n",
    "Info = linregress(df1.iloc[:, 0], df1.iloc[:,1])\n",
    "abline(Info[0], Info[1])\n",
    "print(\"Pearson r is \",df1.iloc[:, 0].corr(df1.iloc[:, 1]))"
   ]
  },
  {
   "cell_type": "code",
   "execution_count": 109,
   "metadata": {
    "ExecuteTime": {
     "end_time": "2018-04-23T12:11:08.842880Z",
     "start_time": "2018-04-23T12:11:08.679449Z"
    },
    "hidden": true
   },
   "outputs": [
    {
     "name": "stdout",
     "output_type": "stream",
     "text": [
      "Pearson r is  0.586493877047509\n"
     ]
    },
    {
     "data": {
      "image/png": "[encoded data removed]",
      "text/plain": [
       "<Figure size 432x288 with 1 Axes>"
      ]
     },
     "metadata": {},
     "output_type": "display_data"
    }
   ],
   "source": [
    "from scipy.stats import linregress\n",
    "def abline(slope, intercept):\n",
    "    \"\"\"Plot a line from slope and intercept\"\"\"\n",
    "    axes = plt.gca()\n",
    "    x_vals = np.array(axes.get_xlim())\n",
    "    y_vals = intercept + slope * x_vals\n",
    "    plt.plot(x_vals, y_vals, '-', color='black')\n",
    "\n",
    "\n",
    "plt.scatter(Avoidable_Death_Diab, Health_Risk_Factor_Low_Exercise, color = 'r')\n",
    "df1 = pd.DataFrame({'Avoidable_Death_Diab': Avoidable_Death_Diab,\\\n",
    "                    'Health_Risk_Factor_Low_Exercise': Health_Risk_Factor_Low_Exercise})\n",
    "\n",
    "df1 = df1.dropna()\n",
    "Info = linregress(df1.iloc[:, 0], df1.iloc[:,1])\n",
    "abline(Info[0], Info[1])\n",
    "print(\"Pearson r is \",df1.iloc[:, 0].corr(df1.iloc[:, 1]))"
   ]
  },
  {
   "cell_type": "code",
   "execution_count": 110,
   "metadata": {
    "ExecuteTime": {
     "end_time": "2018-04-23T12:11:32.147867Z",
     "start_time": "2018-04-23T12:11:31.910245Z"
    },
    "hidden": true
   },
   "outputs": [
    {
     "name": "stdout",
     "output_type": "stream",
     "text": [
      "Pearson r is  0.6055890429939461\n"
     ]
    },
    {
     "data": {
      "image/png": "[encoded data removed]",
      "text/plain": [
       "<Figure size 432x288 with 1 Axes>"
      ]
     },
     "metadata": {},
     "output_type": "display_data"
    }
   ],
   "source": [
    "from scipy.stats import linregress\n",
    "def abline(slope, intercept):\n",
    "    \"\"\"Plot a line from slope and intercept\"\"\"\n",
    "    axes = plt.gca()\n",
    "    x_vals = np.array(axes.get_xlim())\n",
    "    y_vals = intercept + slope * x_vals\n",
    "    plt.plot(x_vals, y_vals, '-', color='black')\n",
    "\n",
    "\n",
    "plt.scatter(Avoidable_Death_Diab, Health_Risk_Factor_Psychological_Distress, color = 'r')\n",
    "df1 = pd.DataFrame({'Avoidable_Death_Diab': Avoidable_Death_Diab,\\\n",
    "                    'Health_Risk_Factor_Psychological_Distress': Health_Risk_Factor_Psychological_Distress})\n",
    "\n",
    "df1 = df1.dropna()\n",
    "Info = linregress(df1.iloc[:, 0], df1.iloc[:,1])\n",
    "abline(Info[0], Info[1])\n",
    "print(\"Pearson r is \",df1.iloc[:, 0].corr(df1.iloc[:, 1]))"
   ]
  },
  {
   "cell_type": "code",
   "execution_count": 111,
   "metadata": {
    "ExecuteTime": {
     "end_time": "2018-04-23T12:12:27.878095Z",
     "start_time": "2018-04-23T12:12:27.743738Z"
    },
    "hidden": true
   },
   "outputs": [
    {
     "name": "stdout",
     "output_type": "stream",
     "text": [
      "Pearson r is  0.6066783273140159\n"
     ]
    },
    {
     "data": {
      "image/png": "[encoded data removed]",
      "text/plain": [
       "<Figure size 432x288 with 1 Axes>"
      ]
     },
     "metadata": {},
     "output_type": "display_data"
    }
   ],
   "source": [
    "from scipy.stats import linregress\n",
    "def abline(slope, intercept):\n",
    "    \"\"\"Plot a line from slope and intercept\"\"\"\n",
    "    axes = plt.gca()\n",
    "    x_vals = np.array(axes.get_xlim())\n",
    "    y_vals = intercept + slope * x_vals\n",
    "    plt.plot(x_vals, y_vals, '-', color='black')\n",
    "\n",
    "\n",
    "plt.scatter(Avoidable_Death_Diab, Health_Risk_Factor_Smoker, color = 'r')\n",
    "df1 = pd.DataFrame({'Avoidable_Death_Diab': Avoidable_Death_Diab,\\\n",
    "                    'Health_Risk_Factor_Smoker': Health_Risk_Factor_Smoker})\n",
    "\n",
    "df1 = df1.dropna()\n",
    "Info = linregress(df1.iloc[:, 0], df1.iloc[:,1])\n",
    "abline(Info[0], Info[1])\n",
    "print(\"Pearson r is \",df1.iloc[:, 0].corr(df1.iloc[:, 1]))"
   ]
  },
  {
   "cell_type": "code",
   "execution_count": null,
   "metadata": {
    "hidden": true
   },
   "outputs": [],
   "source": []
  }
 ],
 "metadata": {
  "kernelspec": {
   "display_name": "Python 3",
   "language": "python",
   "name": "python3"
  },
  "language_info": {
   "codemirror_mode": {
    "name": "ipython",
    "version": 3
   },
   "file_extension": ".py",
   "mimetype": "text/x-python",
   "name": "python",
   "nbconvert_exporter": "python",
   "pygments_lexer": "ipython3",
   "version": "3.6.4"
  },
  "toc": {
   "base_numbering": 1,
   "nav_menu": {},
   "number_sections": true,
   "sideBar": true,
   "skip_h1_title": false,
   "title_cell": "Table of Contents",
   "title_sidebar": "Contents",
   "toc_cell": false,
   "toc_position": {},
   "toc_section_display": true,
   "toc_window_display": false
  }
 },
 "nbformat": 4,
 "nbformat_minor": 2
}
