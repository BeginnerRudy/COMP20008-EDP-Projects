{
 "cells": [
  {
   "cell_type": "code",
   "execution_count": 27,
   "metadata": {
    "ExecuteTime": {
     "end_time": "2018-04-23T05:34:46.141752Z",
     "start_time": "2018-04-23T05:34:46.127718Z"
    }
   },
   "outputs": [],
   "source": [
    "import pandas as pd\n",
    "import matplotlib.pyplot as plt\n",
    "import datetime as dt\n",
    "from pandas.plotting import parallel_coordinates\n",
    "import numpy as np\n",
    "import sklearn \n",
    "import scipy.stats as stats\n",
    "\n",
    "Num_Of_Offence = pd.read_csv('Num_Of_Offence.csv',encoding = 'ISO-8859-1')\n",
    "Unpaid_Domestic = pd.read_csv('Unpaid_Domestic.csv',encoding = 'ISO-8859-1')\n",
    "\n",
    "\n",
    "Num_Of_Offence_Total_Count = Num_Of_Offence[' grand_total_offence_count']\n",
    "Offence_Erp = Num_Of_Offence[' lga_erp']\n",
    "Num_Of_Offence_Total_Per = Num_Of_Offence_Total_Count/Offence_Erp\n",
    "Unpaid_Domestic_Total_Count = Unpaid_Domestic[' P_Tot_DNUDW_'][:79]\n",
    "Unpaid_Total_Participant = Unpaid_Domestic[' P_Tot_Total'][:79]\n",
    "Unpaid_Domestic_Total_Per = Unpaid_Domestic_Total_Count/Unpaid_Total_Participant"
   ]
  },
  {
   "cell_type": "code",
   "execution_count": 17,
   "metadata": {
    "ExecuteTime": {
     "end_time": "2018-04-23T05:30:34.608268Z",
     "start_time": "2018-04-23T05:30:34.603254Z"
    }
   },
   "outputs": [
    {
     "name": "stdout",
     "output_type": "stream",
     "text": [
      "79 79\n"
     ]
    }
   ],
   "source": [
    "print(Num_Of_Offence_Total_Count.size, Unpaid_Domestic_Total_Count.size)"
   ]
  },
  {
   "cell_type": "code",
   "execution_count": 20,
   "metadata": {
    "ExecuteTime": {
     "end_time": "2018-04-23T05:31:37.622872Z",
     "start_time": "2018-04-23T05:31:37.486509Z"
    }
   },
   "outputs": [
    {
     "name": "stdout",
     "output_type": "stream",
     "text": [
      "Pearson r is  0.27824008954466345\n"
     ]
    },
    {
     "data": {
      "image/png": "[encoded data removed]",
      "text/plain": [
       "<Figure size 432x288 with 1 Axes>"
      ]
     },
     "metadata": {},
     "output_type": "display_data"
    }
   ],
   "source": [
    "plt.scatter(Unpaid_Domestic_Total_Count, Num_Of_Offence_Total_Count)\n",
    "from scipy.stats import linregress\n",
    "def abline(slope, intercept):\n",
    "    \"\"\"Plot a line from slope and intercept\"\"\"\n",
    "    axes = plt.gca()\n",
    "    x_vals = np.array(axes.get_xlim())\n",
    "    y_vals = intercept + slope * x_vals\n",
    "    plt.plot(x_vals, y_vals, '-')\n",
    "\n",
    "\n",
    "\n",
    "df1 = pd.DataFrame({'Num_Of_Offence_Total_Count': Num_Of_Offence_Total_Count, 'Unpaid_Domestic_Total_Count':Unpaid_Domestic_Total_Count})\n",
    "\n",
    "df1 = df1.dropna()\n",
    "Info = linregress(df1.iloc[:, 1], df1.iloc[:,0])\n",
    "abline(Info[0], Info[1])\n",
    "print(\"Pearson r is \",df1.iloc[:, 0].corr(df1.iloc[:, 1]))"
   ]
  },
  {
   "cell_type": "code",
   "execution_count": 21,
   "metadata": {
    "ExecuteTime": {
     "end_time": "2018-04-23T05:31:46.727086Z",
     "start_time": "2018-04-23T05:31:46.722103Z"
    }
   },
   "outputs": [
    {
     "data": {
      "text/plain": [
       "LinregressResult(slope=0.1172633316276478, intercept=3423.278781497494, rvalue=0.27824008954466345, pvalue=0.013032745736558861, stderr=0.04613173164694707)"
      ]
     },
     "execution_count": 21,
     "metadata": {},
     "output_type": "execute_result"
    }
   ],
   "source": [
    "Info"
   ]
  },
  {
   "cell_type": "code",
   "execution_count": 31,
   "metadata": {
    "ExecuteTime": {
     "end_time": "2018-04-23T05:36:54.078035Z",
     "start_time": "2018-04-23T05:36:53.928638Z"
    }
   },
   "outputs": [
    {
     "name": "stdout",
     "output_type": "stream",
     "text": [
      "Pearson r is  0.1682056208913397\n"
     ]
    },
    {
     "data": {
      "image/png": "[encoded data removed]",
      "text/plain": [
       "<Figure size 432x288 with 1 Axes>"
      ]
     },
     "metadata": {},
     "output_type": "display_data"
    }
   ],
   "source": [
    "plt.scatter( Unpaid_Domestic_Total_Per, Num_Of_Offence_Total_Per)\n",
    "from scipy.stats import linregress\n",
    "def abline(slope, intercept):\n",
    "    \"\"\"Plot a line from slope and intercept\"\"\"\n",
    "    axes = plt.gca()\n",
    "    x_vals = np.array(axes.get_xlim())\n",
    "    y_vals = intercept + slope * x_vals\n",
    "    plt.plot(x_vals, y_vals, '-')\n",
    "\n",
    "\n",
    "\n",
    "df1 = pd.DataFrame({'Num_Of_Offence_Total_Per': Num_Of_Offence_Total_Per,\\\n",
    "                    'Unpaid_Domestic_Total_Per': Unpaid_Domestic_Total_Per})\n",
    "\n",
    "df1 = df1.dropna()\n",
    "Info = linregress(df1.iloc[:, 1], df1.iloc[:,0])\n",
    "abline(Info[0], Info[1])\n",
    "print(\"Pearson r is \",df1.iloc[:, 0].corr(df1.iloc[:, 1]))"
   ]
  },
  {
   "cell_type": "code",
   "execution_count": 32,
   "metadata": {
    "ExecuteTime": {
     "end_time": "2018-04-23T05:37:00.152191Z",
     "start_time": "2018-04-23T05:37:00.148178Z"
    }
   },
   "outputs": [
    {
     "data": {
      "text/plain": [
       "LinregressResult(slope=0.1734157418147565, intercept=0.028612262400812667, rvalue=0.16820562089133967, pvalue=0.13839497942776083, stderr=0.11581646028717588)"
      ]
     },
     "execution_count": 32,
     "metadata": {},
     "output_type": "execute_result"
    }
   ],
   "source": [
    "Info"
   ]
  },
  {
   "cell_type": "code",
   "execution_count": null,
   "metadata": {},
   "outputs": [],
   "source": []
  }
 ],
 "metadata": {
  "kernelspec": {
   "display_name": "Python 3",
   "language": "python",
   "name": "python3"
  },
  "language_info": {
   "codemirror_mode": {
    "name": "ipython",
    "version": 3
   },
   "file_extension": ".py",
   "mimetype": "text/x-python",
   "name": "python",
   "nbconvert_exporter": "python",
   "pygments_lexer": "ipython3",
   "version": "3.6.4"
  },
  "toc": {
   "base_numbering": 1,
   "nav_menu": {},
   "number_sections": true,
   "sideBar": true,
   "skip_h1_title": false,
   "title_cell": "Table of Contents",
   "title_sidebar": "Contents",
   "toc_cell": false,
   "toc_position": {},
   "toc_section_display": true,
   "toc_window_display": false
  }
 },
 "nbformat": 4,
 "nbformat_minor": 2
}
